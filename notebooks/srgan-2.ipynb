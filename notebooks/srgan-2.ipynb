{
  "cells": [
    {
      "cell_type": "markdown",
      "id": "b40e0092",
      "metadata": {
        "id": "b40e0092"
      },
      "source": [
        "# Super Resolution GAN - x0\n",
        "## Phase 1: Deconstructing the SRGAN Paper\n",
        "\n",
        "Before writing any code, it's crucial to understand the core components. A PhD student would first break down the paper into its constituent parts.\n",
        "The Goal: The primary objective is <mark>to recover fine texture details in super-resolved images, making them look photo-realistic, even at high (4x) upscaling factors</mark>. The paper argues that traditional methods, which minimize Mean Squared Error (MSE), produce overly smooth and perceptually unsatisfying results.\n",
        "- The Architecture: SRGAN is a Generative Adversarial Network with two key models:\n",
        "    - Generator (G): A deep residual network (named SRResNet) that takes a Low-Resolution (LR) image and upscales it to a Super-Resolved (SR) image.\n",
        "    - Discriminator (D): A convolutional neural network trained to distinguish between authentic High-Resolution (HR) images and fake SR images produced by the generator.\n",
        "- The Innovation:\n",
        "    - Perceptual Loss: This is the heart of the SRGAN. <mark>Instead of a simple pixel-wise MSE loss, the generator is trained with a perceptual loss (l_SR) which is a weighted sum of two components</mark>:\n",
        "        - Content Loss (l_content):\n",
        "            - This loss measures perceptual similarity, not pixel-wise similarity. It is calculated as the Euclidean distance between the feature representations of the generated image and the real image, extracted from a pre-trained VGG-19 network. The paper finds that using features from deeper layers (e.g., VGG54) produces better texture detail.\n",
        "        - Adversarial Loss (l_adv):\n",
        "            - This is the standard GAN loss that pushes the generator to create images that can \"fool\" the discriminator into thinking they are real.\n",
        "- The Training Process: The paper proposes a two-stage training strategy for stability and better results:\n",
        "    - Stage 1: Pre-training the Generator. The generator network (SRResNet) is first trained on its own using a pixel-wise MSE loss. This initializes the generator to produce plausible, albeit smooth, images with high PSNR (Peak Signal-to-Noise Ratio).\n",
        "    - Stage 2: Adversarial Training. The pre-trained generator and the discriminator are then trained alternately. The generator's objective is now to minimize the combined perceptual loss, forcing it to learn realistic textures."
      ]
    },
    {
      "cell_type": "code",
      "execution_count": 1,
      "id": "999ed2e5",
      "metadata": {
        "colab": {
          "base_uri": "https://localhost:8080/"
        },
        "id": "999ed2e5",
        "outputId": "c96d13c2-5a29-4225-ae2c-0d32cfafc48f"
      },
      "outputs": [
        {
          "name": "stdout",
          "output_type": "stream",
          "text": [
            "Downloading from https://www.kaggle.com/api/v1/datasets/download/takihasan/div2k-dataset-for-super-resolution?dataset_version_number=1...\n"
          ]
        },
        {
          "name": "stderr",
          "output_type": "stream",
          "text": [
            "100%|██████████| 4.94G/4.94G [00:32<00:00, 162MB/s]"
          ]
        },
        {
          "name": "stdout",
          "output_type": "stream",
          "text": [
            "Extracting files...\n"
          ]
        },
        {
          "name": "stderr",
          "output_type": "stream",
          "text": [
            "\n"
          ]
        },
        {
          "name": "stdout",
          "output_type": "stream",
          "text": [
            "Path to dataset files: /root/.cache/kagglehub/datasets/takihasan/div2k-dataset-for-super-resolution/versions/1\n"
          ]
        }
      ],
      "source": [
        "import kagglehub\n",
        "\n",
        "# Download latest version\n",
        "path = kagglehub.dataset_download(\"takihasan/div2k-dataset-for-super-resolution\")\n",
        "\n",
        "print(\"Path to dataset files:\", path)"
      ]
    },
    {
      "cell_type": "code",
      "execution_count": 10,
      "id": "JqZlrH-2mnD4",
      "metadata": {
        "colab": {
          "base_uri": "https://localhost:8080/"
        },
        "id": "JqZlrH-2mnD4",
        "outputId": "4ee762c6-079a-4569-c1a3-a11ac31c2a29"
      },
      "outputs": [
        {
          "name": "stdout",
          "output_type": "stream",
          "text": [
            "DIV2K_train_HR\t\tDIV2K_train_LR_bicubic_X4  DIV2K_valid_LR_bicubic\n",
            "DIV2K_train_LR_bicubic\tDIV2K_valid_HR\t\t   DIV2K_valid_LR_bicubic_X4\n"
          ]
        }
      ],
      "source": [
        "!ls /root/.cache/kagglehub/datasets/takihasan/div2k-dataset-for-super-resolution/versions/1/Dataset"
      ]
    },
    {
      "cell_type": "markdown",
      "id": "8e8ab6af",
      "metadata": {
        "id": "8e8ab6af"
      },
      "source": [
        "## Config.py"
      ]
    },
    {
      "cell_type": "code",
      "execution_count": null,
      "id": "2213ce9b",
      "metadata": {
        "id": "2213ce9b"
      },
      "outputs": [],
      "source": [
        "# config.py\n",
        "import torch\n",
        "import os\n",
        "import matplotlib.pyplot as plt\n",
        "from PIL import Image\n",
        "\n",
        "# --- Training Hyperparameters ---\n",
        "DEVICE = \"cuda\" if torch.cuda.is_available() else \"cpu\"\n",
        "LEARNING_RATE_GEN = 1e-4\n",
        "LEARNING_RATE_DISC = 1e-4\n",
        "BATCH_SIZE = 16\n",
        "NUM_EPOCHS_PRETRAIN = 50\n",
        "NUM_EPOCHS_GAN = 100\n",
        "HIGH_RES_SIZE = 96  # As per the paper\n",
        "LOW_RES_SIZE = HIGH_RES_SIZE // 4\n",
        "NUM_WORKERS = 4\n",
        "LAMBDA_VGG = 1.0  # Weight for VGG/content loss\n",
        "LAMBDA_ADV = 1e-3  # Weight for adversarial loss\n",
        "\n",
        "os.makedirs(\"saved_models\", exist_ok=True)\n",
        "\n",
        "# --- Model Paths ---\n",
        "PRETRAINED_GEN_PATH = \"saved_models/srresnet_pretrained.pth\"\n",
        "GEN_PATH = \"saved_models/generator.pth\"\n",
        "DISC_PATH = \"saved_models/discriminator.pth\"\n",
        "\n",
        "# --- Dataset Paths ---\n",
        "TRAIN_DIR = \"/root/.cache/kagglehub/datasets/takihasan/div2k-dataset-for-super-resolution/versions/1/Dataset/DIV2K_train_HR\"\n",
        "TEST_DIR = \"/root/.cache/kagglehub/datasets/takihasan/div2k-dataset-for-super-resolution/versions/1/Dataset/DIV2K_valid_HR\"\n",
        "\n",
        "# set the repo name\n",
        "model_name = \"keanteng/srgan-div2k-0723-v2\""
      ]
    },
    {
      "cell_type": "markdown",
      "id": "add7298e",
      "metadata": {
        "id": "add7298e"
      },
      "source": [
        "## Models.py"
      ]
    },
    {
      "cell_type": "code",
      "execution_count": 6,
      "id": "b8ca9632",
      "metadata": {
        "id": "b8ca9632"
      },
      "outputs": [],
      "source": [
        "# models.py\n",
        "import torch\n",
        "from torch import nn\n",
        "\n",
        "class ResidualBlock(nn.Module):\n",
        "    \"\"\"\n",
        "    A single residual block as defined in the SRGAN paper.\n",
        "    It contains two convolutional layers with batch normalization and PReLU activation.\n",
        "    \"\"\"\n",
        "    def __init__(self, in_channels):\n",
        "        super(ResidualBlock, self).__init__()\n",
        "        self.conv_block1 = nn.Sequential(\n",
        "            nn.Conv2d(in_channels, in_channels, kernel_size=3, stride=1, padding=1),\n",
        "            nn.BatchNorm2d(in_channels),\n",
        "            nn.PReLU(),\n",
        "        )\n",
        "        self.conv_block2 = nn.Sequential(\n",
        "            nn.Conv2d(in_channels, in_channels, kernel_size=3, stride=1, padding=1),\n",
        "            nn.BatchNorm2d(in_channels),\n",
        "        )\n",
        "\n",
        "    def forward(self, x):\n",
        "        identity = x\n",
        "        out = self.conv_block1(x)\n",
        "        out = self.conv_block2(out)\n",
        "        return identity + out\n",
        "\n",
        "class UpsampleBlock(nn.Module):\n",
        "    \"\"\"\n",
        "    Upsampling block using a convolutional layer and PixelShuffle.\n",
        "    This increases the resolution by a factor of 2.\n",
        "    \"\"\"\n",
        "    def __init__(self, in_channels, scale_factor=2):\n",
        "        super(UpsampleBlock, self).__init__()\n",
        "        self.conv = nn.Conv2d(in_channels, in_channels * (scale_factor ** 2), kernel_size=3, stride=1, padding=1)\n",
        "        self.pixel_shuffle = nn.PixelShuffle(scale_factor)\n",
        "        self.prelu = nn.PReLU()\n",
        "\n",
        "    def forward(self, x):\n",
        "        return self.prelu(self.pixel_shuffle(self.conv(x)))\n",
        "\n",
        "class Generator(nn.Module):\n",
        "    \"\"\"\n",
        "    The Generator Network (SRResNet).\n",
        "    It takes a low-resolution image and outputs a super-resolved version.\n",
        "    \"\"\"\n",
        "    def __init__(self, in_channels=3, num_res_blocks=16):\n",
        "        super(Generator, self).__init__()\n",
        "        self.initial_conv = nn.Sequential(\n",
        "            nn.Conv2d(in_channels, 64, kernel_size=9, stride=1, padding=4),\n",
        "            nn.PReLU()\n",
        "        )\n",
        "\n",
        "        self.residuals = nn.Sequential(*[ResidualBlock(64) for _ in range(num_res_blocks)])\n",
        "\n",
        "        self.mid_conv = nn.Sequential(\n",
        "            nn.Conv2d(64, 64, kernel_size=3, stride=1, padding=1),\n",
        "            nn.BatchNorm2d(64)\n",
        "        )\n",
        "\n",
        "        # Upsampling by 4x (two 2x upsample blocks)\n",
        "        self.upsample_blocks = nn.Sequential(\n",
        "            UpsampleBlock(64),\n",
        "            UpsampleBlock(64),\n",
        "        )\n",
        "\n",
        "        self.final_conv = nn.Conv2d(64, in_channels, kernel_size=9, stride=1, padding=4)\n",
        "\n",
        "    def forward(self, x):\n",
        "        initial_out = self.initial_conv(x)\n",
        "        residual_out = self.residuals(initial_out)\n",
        "        mid_out = self.mid_conv(residual_out)\n",
        "        mid_out = mid_out + initial_out # Skip connection\n",
        "        upsampled_out = self.upsample_blocks(mid_out)\n",
        "        final_out = self.final_conv(upsampled_out)\n",
        "        return torch.tanh(final_out) # Tanh activation to scale output to [-1, 1]\n",
        "\n",
        "class Discriminator(nn.Module):\n",
        "    \"\"\"\n",
        "    The Discriminator Network.\n",
        "    It takes an image and outputs a probability of it being a real high-resolution image.\n",
        "    \"\"\"\n",
        "    def __init__(self, in_channels=3):\n",
        "        super(Discriminator, self).__init__()\n",
        "\n",
        "        def conv_block(in_feat, out_feat, stride=1):\n",
        "            return nn.Sequential(\n",
        "                nn.Conv2d(in_feat, out_feat, kernel_size=3, stride=stride, padding=1),\n",
        "                nn.BatchNorm2d(out_feat),\n",
        "                nn.LeakyReLU(0.2, inplace=True)\n",
        "            )\n",
        "\n",
        "        self.blocks = nn.Sequential(\n",
        "            nn.Conv2d(in_channels, 64, kernel_size=3, stride=1, padding=1),\n",
        "            nn.LeakyReLU(0.2, inplace=True),\n",
        "\n",
        "            conv_block(64, 64, stride=2),\n",
        "            conv_block(64, 128, stride=1),\n",
        "            conv_block(128, 128, stride=2),\n",
        "            conv_block(128, 256, stride=1),\n",
        "            conv_block(256, 256, stride=2),\n",
        "            conv_block(256, 512, stride=1),\n",
        "            conv_block(512, 512, stride=2),\n",
        "        )\n",
        "\n",
        "        # The paper mentions flattening and then two dense layers\n",
        "        # The output size after convolutions on a 96x96 image is 512x6x6\n",
        "        self.classifier = nn.Sequential(\n",
        "            nn.AdaptiveAvgPool2d(1), # Flattens the output\n",
        "            nn.Conv2d(512, 1024, kernel_size=1),\n",
        "            nn.LeakyReLU(0.2, inplace=True),\n",
        "            nn.Conv2d(1024, 1, kernel_size=1)\n",
        "        )\n",
        "\n",
        "    def forward(self, x):\n",
        "        batch_size = x.size(0)\n",
        "        out = self.blocks(x)\n",
        "        out = self.classifier(out)\n",
        "        return out.view(batch_size, -1) # No sigmoid here, handled by BCEWithLogitsLoss"
      ]
    },
    {
      "cell_type": "markdown",
      "id": "1e442aed",
      "metadata": {
        "id": "1e442aed"
      },
      "source": [
        "## Loss.py"
      ]
    },
    {
      "cell_type": "code",
      "execution_count": 7,
      "id": "92305790",
      "metadata": {
        "id": "92305790"
      },
      "outputs": [],
      "source": [
        "# loss.py\n",
        "import torch\n",
        "from torch import nn\n",
        "from torchvision.models import vgg19\n",
        "\n",
        "class VGGContentLoss(nn.Module):\n",
        "    \"\"\"\n",
        "    Calculates the content loss in the VGG19 feature space.\n",
        "    The paper uses the features from the layer before the 5th max-pooling layer (VGG54).\n",
        "    In PyTorch's VGG19 implementation, this corresponds to `features[35]`.\n",
        "    \"\"\"\n",
        "    def __init__(self, device):\n",
        "        super(VGGContentLoss, self).__init__()\n",
        "        vgg_model = vgg19(weights=\"DEFAULT\").features[:36].to(device).eval()\n",
        "        for param in vgg_model.parameters():\n",
        "            param.requires_grad = False\n",
        "        self.vgg_model = vgg_model\n",
        "        self.loss = nn.MSELoss()\n",
        "\n",
        "    def forward(self, generated, target):\n",
        "        gen_features = self.vgg_model(generated)\n",
        "        target_features = self.vgg_model(target)\n",
        "        return self.loss(gen_features, target_features)\n",
        "\n",
        "class PerceptualLoss(nn.Module):\n",
        "    \"\"\"\n",
        "    Combined Perceptual Loss for SRGAN training.\n",
        "    It includes VGG content loss and adversarial loss.\n",
        "    \"\"\"\n",
        "    def __init__(self, device, lambda_vgg, lambda_adv):\n",
        "        super(PerceptualLoss, self).__init__()\n",
        "        self.vgg_loss_fn = VGGContentLoss(device)\n",
        "        self.adversarial_loss_fn = nn.BCEWithLogitsLoss()\n",
        "        self.lambda_vgg = lambda_vgg\n",
        "        self.lambda_adv = lambda_adv\n",
        "\n",
        "    def forward(self, disc_fake_output, gen_hr, hr_img):\n",
        "        # Content Loss\n",
        "        vgg_loss = self.vgg_loss_fn(gen_hr, hr_img)\n",
        "\n",
        "        # Adversarial Loss (Generator's perspective)\n",
        "        # We want the generator to fool the discriminator, so we compare its output to a tensor of ones.\n",
        "        adversarial_loss = self.adversarial_loss_fn(disc_fake_output, torch.ones_like(disc_fake_output))\n",
        "\n",
        "        # Total Perceptual Loss\n",
        "        total_loss = self.lambda_vgg * vgg_loss + self.lambda_adv * adversarial_loss\n",
        "        return total_loss"
      ]
    },
    {
      "cell_type": "markdown",
      "id": "ec0c859b",
      "metadata": {
        "id": "ec0c859b"
      },
      "source": [
        "## Dataset.py"
      ]
    },
    {
      "cell_type": "code",
      "execution_count": null,
      "id": "3ca2bdf1",
      "metadata": {
        "id": "3ca2bdf1"
      },
      "outputs": [],
      "source": [
        "# dataset.py\n",
        "import os\n",
        "from PIL import Image\n",
        "from torch.utils.data import Dataset\n",
        "from torchvision import transforms\n",
        "\n",
        "class ImageDataset(Dataset):\n",
        "    \"\"\"\n",
        "    Custom dataset to load high-resolution images and create low-resolution counterparts.\n",
        "    \"\"\"\n",
        "    def __init__(self, hr_dir, hr_size):\n",
        "        super(ImageDataset, self).__init__()\n",
        "        self.hr_image_files = [os.path.join(hr_dir, f) for f in os.listdir(hr_dir)]\n",
        "        self.hr_size = hr_size\n",
        "\n",
        "        # Transform for the original image before cropping\n",
        "        self.initial_transform = transforms.Compose([\n",
        "            transforms.ToTensor(),\n",
        "        ])\n",
        "\n",
        "        # Normalization transforms\n",
        "        self.hr_normalize = transforms.Normalize(mean=[0.5, 0.5, 0.5], std=[0.5, 0.5, 0.5])\n",
        "        self.lr_normalize = transforms.Normalize(mean=[0.0, 0.0, 0.0], std=[1.0, 1.0, 1.0])\n",
        "\n",
        "        # Apply the same normalization to both HR and LR images\n",
        "        # transform = transforms.Compose([\n",
        "        #     transforms.ToTensor(),\n",
        "        #     transforms.Normalize(mean=[0.5, 0.5, 0.5], std=[0.5, 0.5, 0.5]),\n",
        "        # ])\n",
        "\n",
        "        # hr_normalized = transform(hr_cropped)\n",
        "        # lr_normalized = transform(lr_tensor)\n",
        "\n",
        "    def __getitem__(self, index):\n",
        "        # Load image\n",
        "        hr_image = Image.open(self.hr_image_files[index]).convert(\"RGB\")\n",
        "\n",
        "        # Convert to tensor first\n",
        "        hr_tensor = self.initial_transform(hr_image)\n",
        "\n",
        "        # Apply random crop to get consistent size\n",
        "        crop_transform = transforms.RandomCrop(self.hr_size)\n",
        "        hr_cropped = crop_transform(hr_tensor)\n",
        "\n",
        "        # Create LR version by downsampling the cropped HR image\n",
        "        lr_tensor = transforms.functional.resize(\n",
        "            hr_cropped,\n",
        "            size=self.hr_size // 4,\n",
        "            interpolation=transforms.InterpolationMode.BICUBIC\n",
        "        )\n",
        "\n",
        "        # Apply normalization\n",
        "        hr_normalized = self.hr_normalize(hr_cropped)\n",
        "        lr_normalized = self.lr_normalize(lr_tensor)\n",
        "\n",
        "        return lr_normalized, hr_normalized\n",
        "\n",
        "    def __len__(self):\n",
        "        return len(self.hr_image_files)"
      ]
    },
    {
      "cell_type": "markdown",
      "id": "467a8902",
      "metadata": {
        "id": "467a8902"
      },
      "source": [
        "## Pretraining.py"
      ]
    },
    {
      "cell_type": "code",
      "execution_count": 15,
      "id": "0fe1572f",
      "metadata": {
        "colab": {
          "base_uri": "https://localhost:8080/"
        },
        "id": "0fe1572f",
        "outputId": "ed037731-f3f1-4e21-abef-a96d023e0f00"
      },
      "outputs": [
        {
          "name": "stdout",
          "output_type": "stream",
          "text": [
            "--- Starting SRResNet Pre-training ---\n"
          ]
        },
        {
          "name": "stderr",
          "output_type": "stream",
          "text": [
            "100%|██████████| 50/50 [00:24<00:00,  2.03it/s, loss=0.0504]\n"
          ]
        },
        {
          "name": "stdout",
          "output_type": "stream",
          "text": [
            "Epoch [1/15] - Avg Loss: 0.1194\n"
          ]
        },
        {
          "name": "stderr",
          "output_type": "stream",
          "text": [
            "100%|██████████| 50/50 [00:25<00:00,  1.93it/s, loss=0.0729]\n"
          ]
        },
        {
          "name": "stdout",
          "output_type": "stream",
          "text": [
            "Epoch [2/15] - Avg Loss: 0.0662\n"
          ]
        },
        {
          "name": "stderr",
          "output_type": "stream",
          "text": [
            "100%|██████████| 50/50 [00:25<00:00,  1.93it/s, loss=0.0376]\n"
          ]
        },
        {
          "name": "stdout",
          "output_type": "stream",
          "text": [
            "Epoch [3/15] - Avg Loss: 0.0558\n"
          ]
        },
        {
          "name": "stderr",
          "output_type": "stream",
          "text": [
            "100%|██████████| 50/50 [00:25<00:00,  1.98it/s, loss=0.0367]\n"
          ]
        },
        {
          "name": "stdout",
          "output_type": "stream",
          "text": [
            "Epoch [4/15] - Avg Loss: 0.0487\n"
          ]
        },
        {
          "name": "stderr",
          "output_type": "stream",
          "text": [
            "100%|██████████| 50/50 [00:25<00:00,  1.98it/s, loss=0.0322]\n"
          ]
        },
        {
          "name": "stdout",
          "output_type": "stream",
          "text": [
            "Epoch [5/15] - Avg Loss: 0.0414\n"
          ]
        },
        {
          "name": "stderr",
          "output_type": "stream",
          "text": [
            "100%|██████████| 50/50 [00:26<00:00,  1.88it/s, loss=0.0239]\n"
          ]
        },
        {
          "name": "stdout",
          "output_type": "stream",
          "text": [
            "Epoch [6/15] - Avg Loss: 0.0373\n"
          ]
        },
        {
          "name": "stderr",
          "output_type": "stream",
          "text": [
            "100%|██████████| 50/50 [00:25<00:00,  1.99it/s, loss=0.0181]\n"
          ]
        },
        {
          "name": "stdout",
          "output_type": "stream",
          "text": [
            "Epoch [7/15] - Avg Loss: 0.0318\n"
          ]
        },
        {
          "name": "stderr",
          "output_type": "stream",
          "text": [
            "100%|██████████| 50/50 [00:25<00:00,  1.96it/s, loss=0.0205]\n"
          ]
        },
        {
          "name": "stdout",
          "output_type": "stream",
          "text": [
            "Epoch [8/15] - Avg Loss: 0.0286\n"
          ]
        },
        {
          "name": "stderr",
          "output_type": "stream",
          "text": [
            "100%|██████████| 50/50 [00:26<00:00,  1.92it/s, loss=0.0354]\n"
          ]
        },
        {
          "name": "stdout",
          "output_type": "stream",
          "text": [
            "Epoch [9/15] - Avg Loss: 0.0300\n"
          ]
        },
        {
          "name": "stderr",
          "output_type": "stream",
          "text": [
            "100%|██████████| 50/50 [00:24<00:00,  2.00it/s, loss=0.0281]\n"
          ]
        },
        {
          "name": "stdout",
          "output_type": "stream",
          "text": [
            "Epoch [10/15] - Avg Loss: 0.0285\n"
          ]
        },
        {
          "name": "stderr",
          "output_type": "stream",
          "text": [
            "100%|██████████| 50/50 [00:25<00:00,  1.94it/s, loss=0.0207]\n"
          ]
        },
        {
          "name": "stdout",
          "output_type": "stream",
          "text": [
            "Epoch [11/15] - Avg Loss: 0.0258\n"
          ]
        },
        {
          "name": "stderr",
          "output_type": "stream",
          "text": [
            "100%|██████████| 50/50 [00:25<00:00,  1.97it/s, loss=0.0238]\n"
          ]
        },
        {
          "name": "stdout",
          "output_type": "stream",
          "text": [
            "Epoch [12/15] - Avg Loss: 0.0247\n"
          ]
        },
        {
          "name": "stderr",
          "output_type": "stream",
          "text": [
            "100%|██████████| 50/50 [00:25<00:00,  1.97it/s, loss=0.0241]\n"
          ]
        },
        {
          "name": "stdout",
          "output_type": "stream",
          "text": [
            "Epoch [13/15] - Avg Loss: 0.0265\n"
          ]
        },
        {
          "name": "stderr",
          "output_type": "stream",
          "text": [
            "100%|██████████| 50/50 [00:23<00:00,  2.10it/s, loss=0.0253]\n"
          ]
        },
        {
          "name": "stdout",
          "output_type": "stream",
          "text": [
            "Epoch [14/15] - Avg Loss: 0.0230\n"
          ]
        },
        {
          "name": "stderr",
          "output_type": "stream",
          "text": [
            "100%|██████████| 50/50 [00:25<00:00,  1.96it/s, loss=0.0221]"
          ]
        },
        {
          "name": "stdout",
          "output_type": "stream",
          "text": [
            "Epoch [15/15] - Avg Loss: 0.0227\n",
            "--- Finished SRResNet Pre-training ---\n"
          ]
        },
        {
          "name": "stderr",
          "output_type": "stream",
          "text": [
            "\n"
          ]
        }
      ],
      "source": [
        "# train_srresnet.py\n",
        "import torch\n",
        "from torch import optim, nn\n",
        "from torch.utils.data import DataLoader\n",
        "from tqdm import tqdm\n",
        "#import config\n",
        "#from models import Generator\n",
        "#from dataset import ImageDataset\n",
        "\n",
        "def train_srresnet():\n",
        "    dataset = ImageDataset(hr_dir=TRAIN_DIR, hr_size=HIGH_RES_SIZE)\n",
        "    loader = DataLoader(\n",
        "        dataset,\n",
        "        batch_size=BATCH_SIZE,\n",
        "        shuffle=True,\n",
        "        num_workers=NUM_WORKERS,\n",
        "        pin_memory=True\n",
        "    )\n",
        "\n",
        "    gen = Generator().to(DEVICE)\n",
        "    opt_gen = optim.Adam(gen.parameters(), lr=LEARNING_RATE_GEN)\n",
        "    mse_loss = nn.MSELoss()\n",
        "\n",
        "    gen.train()\n",
        "\n",
        "    print(\"--- Starting SRResNet Pre-training ---\")\n",
        "    for epoch in range(NUM_EPOCHS_PRETRAIN):\n",
        "        loop = tqdm(loader, leave=True)\n",
        "        total_loss = 0\n",
        "        for lr, hr in loop:\n",
        "            lr = lr.to(DEVICE)\n",
        "            hr = hr.to(DEVICE)\n",
        "\n",
        "            gen_hr = gen(lr)\n",
        "            loss = mse_loss(gen_hr, hr)\n",
        "\n",
        "            opt_gen.zero_grad()\n",
        "            loss.backward()\n",
        "            opt_gen.step()\n",
        "\n",
        "            total_loss += loss.item()\n",
        "            loop.set_postfix(loss=loss.item())\n",
        "\n",
        "        avg_loss = total_loss / len(loader)\n",
        "        print(f\"Epoch [{epoch+1}/{NUM_EPOCHS_PRETRAIN}] - Avg Loss: {avg_loss:.4f}\")\n",
        "\n",
        "        torch.save(gen.state_dict(), PRETRAINED_GEN_PATH)\n",
        "    print(\"--- Finished SRResNet Pre-training ---\")\n",
        "\n",
        "if __name__ == \"__main__\":\n",
        "    train_srresnet()"
      ]
    },
    {
      "cell_type": "markdown",
      "id": "0d94f7a2",
      "metadata": {
        "id": "0d94f7a2"
      },
      "source": [
        "## Adversarial.py"
      ]
    },
    {
      "cell_type": "code",
      "execution_count": 16,
      "id": "4b84adc4",
      "metadata": {
        "colab": {
          "base_uri": "https://localhost:8080/"
        },
        "id": "4b84adc4",
        "outputId": "b3da52a7-a352-4e07-e895-6e28f9e52f18"
      },
      "outputs": [
        {
          "name": "stderr",
          "output_type": "stream",
          "text": [
            "Downloading: \"https://download.pytorch.org/models/vgg19-dcbb9e9d.pth\" to /root/.cache/torch/hub/checkpoints/vgg19-dcbb9e9d.pth\n",
            "100%|██████████| 548M/548M [00:02<00:00, 232MB/s]\n"
          ]
        },
        {
          "name": "stdout",
          "output_type": "stream",
          "text": [
            "--- Starting SRGAN Training ---\n"
          ]
        },
        {
          "name": "stderr",
          "output_type": "stream",
          "text": [
            "100%|██████████| 50/50 [00:25<00:00,  1.95it/s, d_loss=0.288, g_loss=0.224]\n"
          ]
        },
        {
          "name": "stdout",
          "output_type": "stream",
          "text": [
            "Epoch [1/30]\n"
          ]
        },
        {
          "name": "stderr",
          "output_type": "stream",
          "text": [
            "100%|██████████| 50/50 [00:24<00:00,  2.00it/s, d_loss=0.0706, g_loss=0.236]\n"
          ]
        },
        {
          "name": "stdout",
          "output_type": "stream",
          "text": [
            "Epoch [2/30]\n"
          ]
        },
        {
          "name": "stderr",
          "output_type": "stream",
          "text": [
            "100%|██████████| 50/50 [00:25<00:00,  1.95it/s, d_loss=0.558, g_loss=0.221]\n"
          ]
        },
        {
          "name": "stdout",
          "output_type": "stream",
          "text": [
            "Epoch [3/30]\n"
          ]
        },
        {
          "name": "stderr",
          "output_type": "stream",
          "text": [
            "100%|██████████| 50/50 [00:25<00:00,  1.99it/s, d_loss=0.344, g_loss=0.246]\n"
          ]
        },
        {
          "name": "stdout",
          "output_type": "stream",
          "text": [
            "Epoch [4/30]\n"
          ]
        },
        {
          "name": "stderr",
          "output_type": "stream",
          "text": [
            "100%|██████████| 50/50 [00:26<00:00,  1.91it/s, d_loss=0.303, g_loss=0.238]\n"
          ]
        },
        {
          "name": "stdout",
          "output_type": "stream",
          "text": [
            "Epoch [5/30]\n"
          ]
        },
        {
          "name": "stderr",
          "output_type": "stream",
          "text": [
            "100%|██████████| 50/50 [00:25<00:00,  1.93it/s, d_loss=0.125, g_loss=0.185]\n"
          ]
        },
        {
          "name": "stdout",
          "output_type": "stream",
          "text": [
            "Epoch [6/30]\n"
          ]
        },
        {
          "name": "stderr",
          "output_type": "stream",
          "text": [
            "100%|██████████| 50/50 [00:25<00:00,  1.99it/s, d_loss=0.31, g_loss=0.315]\n"
          ]
        },
        {
          "name": "stdout",
          "output_type": "stream",
          "text": [
            "Epoch [7/30]\n"
          ]
        },
        {
          "name": "stderr",
          "output_type": "stream",
          "text": [
            "100%|██████████| 50/50 [00:25<00:00,  1.97it/s, d_loss=0.382, g_loss=0.179]\n"
          ]
        },
        {
          "name": "stdout",
          "output_type": "stream",
          "text": [
            "Epoch [8/30]\n"
          ]
        },
        {
          "name": "stderr",
          "output_type": "stream",
          "text": [
            "100%|██████████| 50/50 [00:25<00:00,  1.96it/s, d_loss=0.15, g_loss=0.202]\n"
          ]
        },
        {
          "name": "stdout",
          "output_type": "stream",
          "text": [
            "Epoch [9/30]\n"
          ]
        },
        {
          "name": "stderr",
          "output_type": "stream",
          "text": [
            "100%|██████████| 50/50 [00:26<00:00,  1.91it/s, d_loss=0.945, g_loss=0.261]\n"
          ]
        },
        {
          "name": "stdout",
          "output_type": "stream",
          "text": [
            "Epoch [10/30]\n"
          ]
        },
        {
          "name": "stderr",
          "output_type": "stream",
          "text": [
            "100%|██████████| 50/50 [00:25<00:00,  1.96it/s, d_loss=0.0418, g_loss=0.198]\n"
          ]
        },
        {
          "name": "stdout",
          "output_type": "stream",
          "text": [
            "Epoch [11/30]\n"
          ]
        },
        {
          "name": "stderr",
          "output_type": "stream",
          "text": [
            "100%|██████████| 50/50 [00:24<00:00,  2.02it/s, d_loss=0.135, g_loss=0.314]\n"
          ]
        },
        {
          "name": "stdout",
          "output_type": "stream",
          "text": [
            "Epoch [12/30]\n"
          ]
        },
        {
          "name": "stderr",
          "output_type": "stream",
          "text": [
            "100%|██████████| 50/50 [00:24<00:00,  2.04it/s, d_loss=0.0847, g_loss=0.173]\n"
          ]
        },
        {
          "name": "stdout",
          "output_type": "stream",
          "text": [
            "Epoch [13/30]\n"
          ]
        },
        {
          "name": "stderr",
          "output_type": "stream",
          "text": [
            "100%|██████████| 50/50 [00:25<00:00,  1.96it/s, d_loss=0.0637, g_loss=0.144]\n"
          ]
        },
        {
          "name": "stdout",
          "output_type": "stream",
          "text": [
            "Epoch [14/30]\n"
          ]
        },
        {
          "name": "stderr",
          "output_type": "stream",
          "text": [
            "100%|██████████| 50/50 [00:25<00:00,  1.96it/s, d_loss=0.0166, g_loss=0.11]\n"
          ]
        },
        {
          "name": "stdout",
          "output_type": "stream",
          "text": [
            "Epoch [15/30]\n"
          ]
        },
        {
          "name": "stderr",
          "output_type": "stream",
          "text": [
            "100%|██████████| 50/50 [00:25<00:00,  1.98it/s, d_loss=0.0105, g_loss=0.188]\n"
          ]
        },
        {
          "name": "stdout",
          "output_type": "stream",
          "text": [
            "Epoch [16/30]\n"
          ]
        },
        {
          "name": "stderr",
          "output_type": "stream",
          "text": [
            "100%|██████████| 50/50 [00:25<00:00,  1.99it/s, d_loss=0.0142, g_loss=0.167]\n"
          ]
        },
        {
          "name": "stdout",
          "output_type": "stream",
          "text": [
            "Epoch [17/30]\n"
          ]
        },
        {
          "name": "stderr",
          "output_type": "stream",
          "text": [
            "100%|██████████| 50/50 [00:25<00:00,  1.97it/s, d_loss=0.0551, g_loss=0.188]\n"
          ]
        },
        {
          "name": "stdout",
          "output_type": "stream",
          "text": [
            "Epoch [18/30]\n"
          ]
        },
        {
          "name": "stderr",
          "output_type": "stream",
          "text": [
            "100%|██████████| 50/50 [00:25<00:00,  1.97it/s, d_loss=0.0275, g_loss=0.128]\n"
          ]
        },
        {
          "name": "stdout",
          "output_type": "stream",
          "text": [
            "Epoch [19/30]\n"
          ]
        },
        {
          "name": "stderr",
          "output_type": "stream",
          "text": [
            "100%|██████████| 50/50 [00:24<00:00,  2.02it/s, d_loss=0.051, g_loss=0.126]\n"
          ]
        },
        {
          "name": "stdout",
          "output_type": "stream",
          "text": [
            "Epoch [20/30]\n"
          ]
        },
        {
          "name": "stderr",
          "output_type": "stream",
          "text": [
            "100%|██████████| 50/50 [00:25<00:00,  1.99it/s, d_loss=0.0373, g_loss=0.216]\n"
          ]
        },
        {
          "name": "stdout",
          "output_type": "stream",
          "text": [
            "Epoch [21/30]\n"
          ]
        },
        {
          "name": "stderr",
          "output_type": "stream",
          "text": [
            "100%|██████████| 50/50 [00:24<00:00,  2.01it/s, d_loss=0.0458, g_loss=0.271]\n"
          ]
        },
        {
          "name": "stdout",
          "output_type": "stream",
          "text": [
            "Epoch [22/30]\n"
          ]
        },
        {
          "name": "stderr",
          "output_type": "stream",
          "text": [
            "100%|██████████| 50/50 [00:25<00:00,  1.99it/s, d_loss=0.00447, g_loss=0.169]\n"
          ]
        },
        {
          "name": "stdout",
          "output_type": "stream",
          "text": [
            "Epoch [23/30]\n"
          ]
        },
        {
          "name": "stderr",
          "output_type": "stream",
          "text": [
            "100%|██████████| 50/50 [00:26<00:00,  1.92it/s, d_loss=0.0234, g_loss=0.178]\n"
          ]
        },
        {
          "name": "stdout",
          "output_type": "stream",
          "text": [
            "Epoch [24/30]\n"
          ]
        },
        {
          "name": "stderr",
          "output_type": "stream",
          "text": [
            "100%|██████████| 50/50 [00:26<00:00,  1.88it/s, d_loss=0.00373, g_loss=0.197]\n"
          ]
        },
        {
          "name": "stdout",
          "output_type": "stream",
          "text": [
            "Epoch [25/30]\n"
          ]
        },
        {
          "name": "stderr",
          "output_type": "stream",
          "text": [
            "100%|██████████| 50/50 [00:26<00:00,  1.86it/s, d_loss=0.00471, g_loss=0.183]\n"
          ]
        },
        {
          "name": "stdout",
          "output_type": "stream",
          "text": [
            "Epoch [26/30]\n"
          ]
        },
        {
          "name": "stderr",
          "output_type": "stream",
          "text": [
            "100%|██████████| 50/50 [00:25<00:00,  1.99it/s, d_loss=0.00566, g_loss=0.217]\n"
          ]
        },
        {
          "name": "stdout",
          "output_type": "stream",
          "text": [
            "Epoch [27/30]\n"
          ]
        },
        {
          "name": "stderr",
          "output_type": "stream",
          "text": [
            "100%|██████████| 50/50 [00:25<00:00,  1.99it/s, d_loss=0.00461, g_loss=0.166]\n"
          ]
        },
        {
          "name": "stdout",
          "output_type": "stream",
          "text": [
            "Epoch [28/30]\n"
          ]
        },
        {
          "name": "stderr",
          "output_type": "stream",
          "text": [
            "100%|██████████| 50/50 [00:25<00:00,  1.97it/s, d_loss=0.00215, g_loss=0.193]\n"
          ]
        },
        {
          "name": "stdout",
          "output_type": "stream",
          "text": [
            "Epoch [29/30]\n"
          ]
        },
        {
          "name": "stderr",
          "output_type": "stream",
          "text": [
            "100%|██████████| 50/50 [00:24<00:00,  2.00it/s, d_loss=0.00206, g_loss=0.202]"
          ]
        },
        {
          "name": "stdout",
          "output_type": "stream",
          "text": [
            "Epoch [30/30]\n",
            "--- Finished SRGAN Training ---\n"
          ]
        },
        {
          "name": "stderr",
          "output_type": "stream",
          "text": [
            "\n"
          ]
        }
      ],
      "source": [
        "# train_gan.py\n",
        "import torch\n",
        "from torch import optim, nn\n",
        "from torch.utils.data import DataLoader\n",
        "from tqdm import tqdm\n",
        "#import config\n",
        "#from models import Generator, Discriminator\n",
        "#from dataset import ImageDataset\n",
        "#from loss import PerceptualLoss\n",
        "\n",
        "def train_gan():\n",
        "    dataset = ImageDataset(hr_dir=TRAIN_DIR, hr_size=HIGH_RES_SIZE)\n",
        "    loader = DataLoader(\n",
        "        dataset,\n",
        "        batch_size=BATCH_SIZE,\n",
        "        shuffle=True,\n",
        "        num_workers=NUM_WORKERS,\n",
        "        pin_memory=True,\n",
        "    )\n",
        "\n",
        "    gen = Generator().to(DEVICE)\n",
        "    disc = Discriminator().to(DEVICE)\n",
        "\n",
        "    # Load pre-trained generator weights\n",
        "    gen.load_state_dict(torch.load(PRETRAINED_GEN_PATH, map_location=DEVICE))\n",
        "\n",
        "    opt_gen = optim.Adam(gen.parameters(), lr=LEARNING_RATE_GEN, betas=(0.9, 0.999))\n",
        "    opt_disc = optim.Adam(disc.parameters(), lr=LEARNING_RATE_DISC, betas=(0.9, 0.999))\n",
        "\n",
        "    perceptual_loss_fn = PerceptualLoss(DEVICE, LAMBDA_VGG, LAMBDA_ADV)\n",
        "    bce_loss = nn.BCEWithLogitsLoss()\n",
        "\n",
        "    print(\"--- Starting SRGAN Training ---\")\n",
        "    for epoch in range(NUM_EPOCHS_GAN):\n",
        "        gen.train()\n",
        "        disc.train()\n",
        "        loop = tqdm(loader, leave=True)\n",
        "\n",
        "        for lr, hr in loop:\n",
        "            lr = lr.to(DEVICE)\n",
        "            hr = hr.to(DEVICE)\n",
        "\n",
        "            # --- Train Discriminator ---\n",
        "            gen_hr = gen(lr)\n",
        "\n",
        "            disc_real_out = disc(hr)\n",
        "            disc_fake_out = disc(gen_hr.detach())\n",
        "\n",
        "            disc_loss_real = bce_loss(disc_real_out, torch.ones_like(disc_real_out))\n",
        "            disc_loss_fake = bce_loss(disc_fake_out, torch.zeros_like(disc_fake_out))\n",
        "\n",
        "            disc_loss = (disc_loss_real + disc_loss_fake) / 2\n",
        "\n",
        "            opt_disc.zero_grad()\n",
        "            disc_loss.backward()\n",
        "            opt_disc.step()\n",
        "\n",
        "            # --- Train Generator ---\n",
        "            disc_fake_for_gen = disc(gen_hr)\n",
        "            gen_loss = perceptual_loss_fn(disc_fake_for_gen, gen_hr, hr)\n",
        "\n",
        "            opt_gen.zero_grad()\n",
        "            gen_loss.backward()\n",
        "            opt_gen.step()\n",
        "\n",
        "            loop.set_postfix(g_loss=gen_loss.item(), d_loss=disc_loss.item())\n",
        "\n",
        "        print(f\"Epoch [{epoch+1}/{NUM_EPOCHS_GAN}]\")\n",
        "        torch.save(gen.state_dict(), GEN_PATH)\n",
        "        torch.save(disc.state_dict(), DISC_PATH)\n",
        "\n",
        "    print(\"--- Finished SRGAN Training ---\")\n",
        "\n",
        "if __name__ == \"__main__\":\n",
        "    train_gan()"
      ]
    },
    {
      "cell_type": "markdown",
      "id": "f270f311",
      "metadata": {
        "id": "f270f311"
      },
      "source": [
        "## Evaluate.py"
      ]
    },
    {
      "cell_type": "code",
      "execution_count": 17,
      "id": "81d2b0fa",
      "metadata": {
        "id": "81d2b0fa"
      },
      "outputs": [],
      "source": [
        "# evaluate.py\n",
        "from torchvision.utils import save_image\n",
        "from torchvision import transforms\n",
        "import cv2\n",
        "from skimage.metrics import structural_similarity as ssim\n",
        "from skimage.metrics import peak_signal_noise_ratio as psnr\n",
        "import numpy as np\n",
        "#import config\n",
        "#from models import Generator\n",
        "\n",
        "def calculate_psnr(img1, img2):\n",
        "    \"\"\"\n",
        "    Calculate PSNR between two images.\n",
        "    Images should be in range [0, 255] and of type uint8.\n",
        "    \"\"\"\n",
        "    if img1.shape != img2.shape:\n",
        "        raise ValueError(\"Input images must have the same dimensions\")\n",
        "\n",
        "    mse = np.mean((img1.astype(np.float64) - img2.astype(np.float64)) ** 2)\n",
        "    if mse == 0:\n",
        "        return float('inf')\n",
        "\n",
        "    max_pixel = 255.0\n",
        "    psnr_value = 20 * np.log10(max_pixel / np.sqrt(mse))\n",
        "    return psnr_value\n",
        "\n",
        "def calculate_ssim(img1, img2):\n",
        "    \"\"\"\n",
        "    Calculate SSIM between two images.\n",
        "    Images should be in range [0, 255] and of type uint8.\n",
        "    \"\"\"\n",
        "    if img1.shape != img2.shape:\n",
        "        raise ValueError(\"Input images must have the same dimensions\")\n",
        "\n",
        "    # Convert to grayscale if images are color\n",
        "    if len(img1.shape) == 3:\n",
        "        img1_gray = cv2.cvtColor(img1, cv2.COLOR_RGB2GRAY)\n",
        "        img2_gray = cv2.cvtColor(img2, cv2.COLOR_RGB2GRAY)\n",
        "    else:\n",
        "        img1_gray = img1\n",
        "        img2_gray = img2\n",
        "\n",
        "    ssim_value = ssim(img1_gray, img2_gray, data_range=255)\n",
        "    return ssim_value\n",
        "\n",
        "def tensor_to_numpy(tensor):\n",
        "    \"\"\"\n",
        "    Convert tensor to numpy array in range [0, 255].\n",
        "    \"\"\"\n",
        "    # Denormalize from [-1, 1] to [0, 1]\n",
        "    tensor = tensor * 0.5 + 0.5\n",
        "    # Clamp to [0, 1]\n",
        "    tensor = torch.clamp(tensor, 0, 1)\n",
        "    # Convert to numpy and scale to [0, 255]\n",
        "    numpy_img = tensor.squeeze(0).cpu().detach().numpy()\n",
        "    numpy_img = np.transpose(numpy_img, (1, 2, 0))  # CHW to HWC\n",
        "    numpy_img = (numpy_img * 255).astype(np.uint8)\n",
        "    return numpy_img"
      ]
    },
    {
      "cell_type": "code",
      "execution_count": null,
      "id": "8d90d580",
      "metadata": {},
      "outputs": [],
      "source": [
        "def rgb_to_y_channel(img):\n",
        "    \"\"\"Convert RGB image to Y channel (luminance)\"\"\"\n",
        "    if len(img.shape) == 3:\n",
        "        # ITU-R BT.601 conversion\n",
        "        y = 0.299 * img[:, :, 0] + 0.587 * img[:, :, 1] + 0.114 * img[:, :, 2]\n",
        "        return y.astype(np.uint8)\n",
        "    return img\n",
        "\n",
        "def calculate_metrics_paper_protocol(img1, img2):\n",
        "    \"\"\"\n",
        "    Calculate PSNR and SSIM following the original SRGAN paper protocol\n",
        "    \"\"\"\n",
        "    # Convert to Y channel\n",
        "    y1 = rgb_to_y_channel(img1)\n",
        "    y2 = rgb_to_y_channel(img2)\n",
        "    \n",
        "    # Remove 4-pixel border (center crop)\n",
        "    h, w = y1.shape\n",
        "    y1_cropped = y1[4:h-4, 4:w-4]\n",
        "    y2_cropped = y2[4:h-4, 4:w-4]\n",
        "    \n",
        "    # Calculate metrics on Y channel only\n",
        "    psnr_val = calculate_psnr(y1_cropped, y2_cropped)\n",
        "    ssim_val = ssim(y1_cropped, y2_cropped, data_range=255)\n",
        "    \n",
        "    return psnr_val, ssim_val"
      ]
    },
    {
      "cell_type": "code",
      "execution_count": null,
      "id": "6278f013",
      "metadata": {
        "colab": {
          "base_uri": "https://localhost:8080/",
          "height": 573
        },
        "id": "6278f013",
        "outputId": "a68a62d4-65a6-4c26-905b-804b999da25a"
      },
      "outputs": [
        {
          "data": {
            "image/png": "[encoded data removed]",
            "text/plain": [
              "<Figure size 1500x500 with 3 Axes>"
            ]
          },
          "metadata": {},
          "output_type": "display_data"
        },
        {
          "name": "stdout",
          "output_type": "stream",
          "text": [
            "=== Evaluation Results ===\n",
            "SRGAN vs Ground Truth:\n",
            "  PSNR: 18.13 dB\n",
            "  SSIM: 0.4665\n",
            "\n",
            "Bicubic vs Ground Truth:\n",
            "  PSNR: 20.43 dB\n",
            "  SSIM: 0.5138\n",
            "\n",
            "Improvement:\n",
            "  PSNR: +-2.30 dB\n",
            "  SSIM: +-0.0473\n",
            "\n",
            "Evaluation complete. Results saved in the 'results' folder.\n"
          ]
        }
      ],
      "source": [
        "# Load a test image\n",
        "test_image_path = f\"{TEST_DIR}/0801.png\" # Example image\n",
        "image = Image.open(test_image_path).convert(\"RGB\")\n",
        "\n",
        "# Prepare HR ground truth (crop to match output size)\n",
        "hr_transform = transforms.Compose([\n",
        "    transforms.Resize((HIGH_RES_SIZE, HIGH_RES_SIZE), interpolation=Image.BICUBIC),\n",
        "    transforms.ToTensor(),\n",
        "    transforms.Normalize(mean=[0.5, 0.5, 0.5], std=[0.5, 0.5, 0.5]),\n",
        "])\n",
        "hr_image = hr_transform(image).unsqueeze(0).to(DEVICE)\n",
        "\n",
        "# Prepare LR image\n",
        "lr_transform = transforms.Compose([\n",
        "    transforms.Resize((LOW_RES_SIZE, LOW_RES_SIZE), interpolation=Image.BICUBIC),\n",
        "    transforms.ToTensor(),\n",
        "    transforms.Normalize(mean=[0.0, 0.0, 0.0], std=[1.0, 1.0, 1.0]),\n",
        "])\n",
        "lr_image = lr_transform(image).unsqueeze(0).to(DEVICE)\n",
        "\n",
        "# Load generator\n",
        "gen = Generator().to(DEVICE)\n",
        "gen.load_state_dict(torch.load(GEN_PATH, map_location=DEVICE))\n",
        "gen.eval()\n",
        "\n",
        "with torch.no_grad():\n",
        "    sr_image = gen(lr_image)\n",
        "\n",
        "# Save the results\n",
        "os.makedirs(\"results\", exist_ok=True)\n",
        "save_image(sr_image * 0.5 + 0.5, \"results/sr_result_1.png\")\n",
        "save_image(hr_image * 0.5 + 0.5, \"results/hr_ground_truth_1.png\")\n",
        "\n",
        "# Create bicubic upscaled version for comparison\n",
        "bicubic_image = lr_image.squeeze(0).cpu().detach()\n",
        "# Denormalize LR image from [0, 1] to [0, 255]\n",
        "bicubic_image = (bicubic_image * 255).clamp(0, 255).byte()\n",
        "bicubic_transform = transforms.ToPILImage()\n",
        "bicubic_pil = bicubic_transform(bicubic_image)\n",
        "bicubic_pil = bicubic_pil.resize((HIGH_RES_SIZE, HIGH_RES_SIZE), Image.BICUBIC)\n",
        "bicubic_pil.save(\"results/bicubic_result_1.png\")\n",
        "\n",
        "# Convert tensors to images for display\n",
        "sr_display_img = transforms.ToPILImage()((sr_image.cpu().squeeze(0) * 0.5 + 0.5).clamp(0, 1))\n",
        "hr_display_img = transforms.ToPILImage()((hr_image.cpu().squeeze(0) * 0.5 + 0.5).clamp(0, 1))\n",
        "\n",
        "# Display comparison\n",
        "plt.figure(figsize=(15, 5))\n",
        "plt.subplot(1, 3, 1)\n",
        "plt.title(\"Bicubic Input (Upscaled)\")\n",
        "plt.imshow(bicubic_pil)\n",
        "plt.axis('off')\n",
        "\n",
        "plt.subplot(1, 3, 2)\n",
        "plt.title(\"SRGAN Output\")\n",
        "plt.imshow(sr_display_img)\n",
        "plt.axis('off')\n",
        "\n",
        "plt.subplot(1, 3, 3)\n",
        "plt.title(\"Ground Truth\")\n",
        "plt.imshow(hr_display_img)\n",
        "plt.axis('off')\n",
        "\n",
        "plt.tight_layout()\n",
        "plt.show()\n",
        "\n",
        "# Convert images to numpy arrays for metric calculation\n",
        "sr_numpy = tensor_to_numpy(sr_image)\n",
        "hr_numpy = tensor_to_numpy(hr_image)\n",
        "bicubic_numpy = np.array(bicubic_pil)\n",
        "\n",
        "sr_psnr, sr_ssim = calculate_metrics_paper_protocol(original_numpy, sr_numpy)\n",
        "bicubic_psnr, bicubic_ssim = calculate_metrics_paper_protocol(original_numpy, bicubic_numpy)\n",
        "\n",
        "print(\"=== Evaluation Results ===\")\n",
        "print(f\"SRGAN vs Ground Truth:\")\n",
        "print(f\"  PSNR: {sr_psnr:.2f} dB\")\n",
        "print(f\"  SSIM: {sr_ssim:.4f}\")\n",
        "print(f\"\\nBicubic vs Ground Truth:\")\n",
        "print(f\"  PSNR: {bicubic_psnr:.2f} dB\")\n",
        "print(f\"  SSIM: {bicubic_ssim:.4f}\")\n",
        "print(f\"\\nImprovement:\")\n",
        "print(f\"  PSNR: +{sr_psnr - bicubic_psnr:.2f} dB\")\n",
        "print(f\"  SSIM: +{sr_ssim - bicubic_ssim:.4f}\")\n",
        "\n",
        "print(\"\\nEvaluation complete. Results saved in the 'results' folder.\")"
      ]
    },
    {
      "cell_type": "code",
      "execution_count": null,
      "id": "229rzeszpJas",
      "metadata": {
        "colab": {
          "base_uri": "https://localhost:8080/",
          "height": 573
        },
        "id": "229rzeszpJas",
        "outputId": "5b6d4582-4f4f-4354-b291-d648227533d0"
      },
      "outputs": [
        {
          "data": {
            "image/png": "[encoded data removed]",
            "text/plain": [
              "<Figure size 1500x500 with 3 Axes>"
            ]
          },
          "metadata": {},
          "output_type": "display_data"
        },
        {
          "name": "stdout",
          "output_type": "stream",
          "text": [
            "=== Evaluation Results ===\n",
            "SRGAN vs Ground Truth:\n",
            "  PSNR: 18.88 dB\n",
            "  SSIM: 0.5616\n",
            "\n",
            "Bicubic vs Ground Truth:\n",
            "  PSNR: 23.22 dB\n",
            "  SSIM: 0.6125\n",
            "\n",
            "Improvement:\n",
            "  PSNR: +-4.34 dB\n",
            "  SSIM: +-0.0508\n",
            "\n",
            "Evaluation complete. Results saved in the 'results' folder.\n"
          ]
        }
      ],
      "source": [
        "# Load a test image\n",
        "test_image_path = f\"{TEST_DIR}/0816.png\" # Example image\n",
        "image = Image.open(test_image_path).convert(\"RGB\")\n",
        "\n",
        "# Prepare HR ground truth (crop to match output size)\n",
        "hr_transform = transforms.Compose([\n",
        "    transforms.Resize((HIGH_RES_SIZE, HIGH_RES_SIZE), interpolation=Image.BICUBIC),\n",
        "    transforms.ToTensor(),\n",
        "    transforms.Normalize(mean=[0.5, 0.5, 0.5], std=[0.5, 0.5, 0.5]),\n",
        "])\n",
        "hr_image = hr_transform(image).unsqueeze(0).to(DEVICE)\n",
        "\n",
        "# Prepare LR image\n",
        "lr_transform = transforms.Compose([\n",
        "    transforms.Resize((LOW_RES_SIZE, LOW_RES_SIZE), interpolation=Image.BICUBIC),\n",
        "    transforms.ToTensor(),\n",
        "    transforms.Normalize(mean=[0.0, 0.0, 0.0], std=[1.0, 1.0, 1.0]),\n",
        "])\n",
        "lr_image = lr_transform(image).unsqueeze(0).to(DEVICE)\n",
        "\n",
        "# Load generator\n",
        "gen = Generator().to(DEVICE)\n",
        "gen.load_state_dict(torch.load(GEN_PATH, map_location=DEVICE))\n",
        "gen.eval()\n",
        "\n",
        "with torch.no_grad():\n",
        "    sr_image = gen(lr_image)\n",
        "\n",
        "# Save the results\n",
        "os.makedirs(\"results\", exist_ok=True)\n",
        "save_image(sr_image * 0.5 + 0.5, \"results/sr_result_2.png\")\n",
        "save_image(hr_image * 0.5 + 0.5, \"results/hr_ground_truth_2.png\")\n",
        "\n",
        "# Create bicubic upscaled version for comparison\n",
        "bicubic_image = lr_image.squeeze(0).cpu().detach()\n",
        "# Denormalize LR image from [0, 1] to [0, 255]\n",
        "bicubic_image = (bicubic_image * 255).clamp(0, 255).byte()\n",
        "bicubic_transform = transforms.ToPILImage()\n",
        "bicubic_pil = bicubic_transform(bicubic_image)\n",
        "bicubic_pil = bicubic_pil.resize((HIGH_RES_SIZE, HIGH_RES_SIZE), Image.BICUBIC)\n",
        "bicubic_pil.save(\"results/bicubic_result_2.png\")\n",
        "\n",
        "# Convert tensors to images for display\n",
        "sr_display_img = transforms.ToPILImage()((sr_image.cpu().squeeze(0) * 0.5 + 0.5).clamp(0, 1))\n",
        "hr_display_img = transforms.ToPILImage()((hr_image.cpu().squeeze(0) * 0.5 + 0.5).clamp(0, 1))\n",
        "\n",
        "# Display comparison\n",
        "plt.figure(figsize=(15, 5))\n",
        "plt.subplot(1, 3, 1)\n",
        "plt.title(\"Bicubic Input (Upscaled)\")\n",
        "plt.imshow(bicubic_pil)\n",
        "plt.axis('off')\n",
        "\n",
        "plt.subplot(1, 3, 2)\n",
        "plt.title(\"SRGAN Output\")\n",
        "plt.imshow(sr_display_img)\n",
        "plt.axis('off')\n",
        "\n",
        "plt.subplot(1, 3, 3)\n",
        "plt.title(\"Ground Truth\")\n",
        "plt.imshow(hr_display_img)\n",
        "plt.axis('off')\n",
        "\n",
        "plt.tight_layout()\n",
        "plt.show()\n",
        "\n",
        "# Convert images to numpy arrays for metric calculation\n",
        "sr_numpy = tensor_to_numpy(sr_image)\n",
        "hr_numpy = tensor_to_numpy(hr_image)\n",
        "bicubic_numpy = np.array(bicubic_pil)\n",
        "\n",
        "sr_psnr, sr_ssim = calculate_metrics_paper_protocol(original_numpy, sr_numpy)\n",
        "bicubic_psnr, bicubic_ssim = calculate_metrics_paper_protocol(original_numpy, bicubic_numpy)\n",
        "\n",
        "print(\"=== Evaluation Results ===\")\n",
        "print(f\"SRGAN vs Ground Truth:\")\n",
        "print(f\"  PSNR: {sr_psnr:.2f} dB\")\n",
        "print(f\"  SSIM: {sr_ssim:.4f}\")\n",
        "print(f\"\\nBicubic vs Ground Truth:\")\n",
        "print(f\"  PSNR: {bicubic_psnr:.2f} dB\")\n",
        "print(f\"  SSIM: {bicubic_ssim:.4f}\")\n",
        "print(f\"\\nImprovement:\")\n",
        "print(f\"  PSNR: +{sr_psnr - bicubic_psnr:.2f} dB\")\n",
        "print(f\"  SSIM: +{sr_ssim - bicubic_ssim:.4f}\")\n",
        "\n",
        "print(\"\\nEvaluation complete. Results saved in the 'results' folder.\")"
      ]
    },
    {
      "cell_type": "code",
      "execution_count": null,
      "id": "587fda2d",
      "metadata": {
        "colab": {
          "base_uri": "https://localhost:8080/"
        },
        "id": "587fda2d",
        "outputId": "0df5ccde-35dd-4b5e-8892-7ee08d1ed9a6"
      },
      "outputs": [
        {
          "name": "stdout",
          "output_type": "stream",
          "text": [
            "Evaluating on test dataset...\n",
            "Processed 10 images...\n",
            "Processed 20 images...\n",
            "Processed 30 images...\n",
            "Processed 40 images...\n",
            "Processed 50 images...\n",
            "Processed 60 images...\n",
            "Processed 70 images...\n",
            "Processed 80 images...\n",
            "Processed 90 images...\n",
            "Processed 100 images...\n",
            "\n",
            "=== Average Results on 100 Test Images ===\n",
            "SRGAN:\n",
            "  Average PSNR: 17.54 dB\n",
            "  Average SSIM: 0.6241\n",
            "\n",
            "Bicubic Baseline:\n",
            "  Average PSNR: 10.56 dB\n",
            "  Average SSIM: 0.5042\n",
            "\n",
            "Average Improvement:\n",
            "  PSNR: +6.98 dB\n",
            "  SSIM: +0.1200\n"
          ]
        }
      ],
      "source": [
        "# Create test dataset\n",
        "test_dataset = ImageDataset(hr_dir=TEST_DIR, hr_size=HIGH_RES_SIZE)\n",
        "test_loader = DataLoader(test_dataset, batch_size=1, shuffle=False, num_workers=1)\n",
        "\n",
        "# Load generator\n",
        "gen = Generator().to(DEVICE)\n",
        "gen.load_state_dict(torch.load(GEN_PATH, map_location=DEVICE))\n",
        "gen.eval()\n",
        "\n",
        "total_sr_psnr = 0\n",
        "total_sr_ssim = 0\n",
        "total_bicubic_psnr = 0\n",
        "total_bicubic_ssim = 0\n",
        "num_images = 0\n",
        "\n",
        "print(\"Evaluating on test dataset...\")\n",
        "\n",
        "with torch.no_grad():\n",
        "    for i, (lr, hr) in enumerate(test_loader):\n",
        "        lr = lr.to(DEVICE)\n",
        "        hr = hr.to(DEVICE)\n",
        "\n",
        "        # Generate SR image\n",
        "        sr = gen(lr)\n",
        "\n",
        "        # Convert to numpy arrays\n",
        "        sr_numpy = tensor_to_numpy(sr)\n",
        "        hr_numpy = tensor_to_numpy(hr)\n",
        "\n",
        "        # Create bicubic baseline\n",
        "        lr_numpy = tensor_to_numpy(lr)\n",
        "        bicubic_pil = Image.fromarray(lr_numpy).resize((HIGH_RES_SIZE, HIGH_RES_SIZE), Image.BICUBIC)\n",
        "        bicubic_numpy = np.array(bicubic_pil)\n",
        "\n",
        "        # Calculate metrics\n",
        "        sr_psnr, sr_ssim = calculate_metrics_paper_protocol(original_numpy, sr_numpy)\n",
        "        bicubic_psnr, bicubic_ssim = calculate_metrics_paper_protocol(original_numpy, bicubic_numpy)\n",
        "\n",
        "        total_sr_psnr += sr_psnr\n",
        "        total_sr_ssim += sr_ssim\n",
        "        total_bicubic_psnr += bicubic_psnr\n",
        "        total_bicubic_ssim += bicubic_ssim\n",
        "        num_images += 1\n",
        "\n",
        "        if (i + 1) % 10 == 0:\n",
        "            print(f\"Processed {i + 1} images...\")\n",
        "\n",
        "# Calculate averages\n",
        "avg_sr_psnr = total_sr_psnr / num_images\n",
        "avg_sr_ssim = total_sr_ssim / num_images\n",
        "avg_bicubic_psnr = total_bicubic_psnr / num_images\n",
        "avg_bicubic_ssim = total_bicubic_ssim / num_images\n",
        "\n",
        "print(f\"\\n=== Average Results on {num_images} Test Images ===\")\n",
        "print(f\"SRGAN:\")\n",
        "print(f\"  Average PSNR: {avg_sr_psnr:.2f} dB\")\n",
        "print(f\"  Average SSIM: {avg_sr_ssim:.4f}\")\n",
        "print(f\"\\nBicubic Baseline:\")\n",
        "print(f\"  Average PSNR: {avg_bicubic_psnr:.2f} dB\")\n",
        "print(f\"  Average SSIM: {avg_bicubic_ssim:.4f}\")\n",
        "print(f\"\\nAverage Improvement:\")\n",
        "print(f\"  PSNR: +{avg_sr_psnr - avg_bicubic_psnr:.2f} dB\")\n",
        "print(f\"  SSIM: +{avg_sr_ssim - avg_bicubic_ssim:.4f}\")"
      ]
    },
    {
      "cell_type": "markdown",
      "id": "7071eefd",
      "metadata": {
        "id": "7071eefd"
      },
      "source": [
        "## Huggingface.py"
      ]
    },
    {
      "cell_type": "code",
      "execution_count": 21,
      "id": "faea0dca",
      "metadata": {
        "colab": {
          "base_uri": "https://localhost:8080/",
          "height": 17,
          "referenced_widgets": [
            "10a3cc14e33d4277853af7c86a4c27e4",
            "b31e3386b0514dcbb0e6ca7280db4ad9",
            "154c52227b6942c18aec6d5cdbf0baa8",
            "0aa863b142cc41db86da5b1d8e227b01",
            "9c6b56f4d59345ed9d652746ce750042",
            "7295ea5d6c374ebf94ec91a35b27c818",
            "1d0f5388f5714f2eb52407a3f53b1737",
            "a9da7358a0824d558046fe947f0d7604",
            "9ed25fb5850e4a41b93204139edae322",
            "8983c0ec7d06441193936645e1083d14",
            "0a16e5dc4d844c83af7dfe6a07f5fd38",
            "0492afe598024c3d849f22950f3d162e",
            "ab9ffc5d78fe47c288512d997de6cfbd",
            "d3d2dcea7af54bcb8cb1c1427b474181",
            "31fe3694dc0c4a75bd46dd54ccb4247e",
            "7e586db4400c44a78186532263483d94",
            "4209c98f49e3499b9d4176ef1aaa2921",
            "a03b53d499534307b50daced743d3122",
            "bb0b312413904e0c807b8bea20dbb46a",
            "b3f424fb1ec2405ebb291769d311609b"
          ]
        },
        "id": "faea0dca",
        "outputId": "20f45d66-d855-40fb-9b4a-ca8f0708e570"
      },
      "outputs": [
        {
          "data": {
            "application/vnd.jupyter.widget-view+json": {
              "model_id": "10a3cc14e33d4277853af7c86a4c27e4",
              "version_major": 2,
              "version_minor": 0
            },
            "text/plain": [
              "VBox(children=(HTML(value='<center> <img\\nsrc=https://huggingface.co/front/assets/huggingface_logo-noborder.sv…"
            ]
          },
          "metadata": {},
          "output_type": "display_data"
        }
      ],
      "source": [
        "from huggingface_hub import HfApi, login\n",
        "import json\n",
        "\n",
        "# Login to Hugging Face\n",
        "login()"
      ]
    },
    {
      "cell_type": "code",
      "execution_count": 22,
      "id": "34096e84",
      "metadata": {
        "colab": {
          "base_uri": "https://localhost:8080/",
          "height": 176
        },
        "id": "34096e84",
        "outputId": "3cdd0e3a-bd59-4f48-bcd1-dcdb2e4bb9e9"
      },
      "outputs": [
        {
          "name": "stderr",
          "output_type": "stream",
          "text": [
            "/usr/local/lib/python3.11/dist-packages/huggingface_hub/utils/_auth.py:94: UserWarning: \n",
            "The secret `HF_TOKEN` does not exist in your Colab secrets.\n",
            "To authenticate with the Hugging Face Hub, create a token in your settings tab (https://huggingface.co/settings/tokens), set it as secret in your Google Colab and restart your session.\n",
            "You will be able to reuse this secret in all of your notebooks.\n",
            "Please note that authentication is recommended but still optional to access public models or datasets.\n",
            "  warnings.warn(\n"
          ]
        },
        {
          "data": {
            "application/vnd.google.colaboratory.intrinsic+json": {
              "type": "string"
            },
            "text/plain": [
              "RepoUrl('https://huggingface.co/keanteng/srgan-div2k-0723', endpoint='https://huggingface.co', repo_type='model', repo_id='keanteng/srgan-div2k-0723')"
            ]
          },
          "execution_count": 22,
          "metadata": {},
          "output_type": "execute_result"
        }
      ],
      "source": [
        "# Create a new repository\n",
        "api = HfApi()\n",
        "api.create_repo(repo_id=model_name, repo_type=\"model\", exist_ok=True)"
      ]
    },
    {
      "cell_type": "code",
      "execution_count": 23,
      "id": "7d0b1517",
      "metadata": {
        "colab": {
          "base_uri": "https://localhost:8080/",
          "height": 118,
          "referenced_widgets": [
            "8c3f0174799c494984dccfea8f4b9354",
            "506c35f5d1254164a37bbd56bd9da30a",
            "aab51d55d8b24f2c9e26a07ffdeed261",
            "baeee60595594e10a5a9679eb839ee9e",
            "4fc7219c8e1549c8835e7c764759923c",
            "a8b215f6ccb045a4be8975a695b0d350",
            "4033689b00ae4b4495bdb5f925adbab8",
            "17f5606ede7a4ac39730bc64d2e43449",
            "4f1a102599154c2bbddcf3822bac2667",
            "3231d0a0972e459987e6ad344361dadb",
            "66d526bb2fdc4cd786380f3bc9218c5c"
          ]
        },
        "id": "7d0b1517",
        "outputId": "57645643-c796-46a9-9d1d-8db17b4bde73"
      },
      "outputs": [
        {
          "data": {
            "application/vnd.jupyter.widget-view+json": {
              "model_id": "8c3f0174799c494984dccfea8f4b9354",
              "version_major": 2,
              "version_minor": 0
            },
            "text/plain": [
              "Uploading...:   0%|          | 0.00/33.5M [00:00<?, ?B/s]"
            ]
          },
          "metadata": {},
          "output_type": "display_data"
        },
        {
          "data": {
            "application/vnd.google.colaboratory.intrinsic+json": {
              "type": "string"
            },
            "text/plain": [
              "CommitInfo(commit_url='https://huggingface.co/keanteng/srgan-div2k-0723/commit/2addc74ad1b88b630880616f1031b79ba31e060a', commit_message='Upload folder using huggingface_hub', commit_description='', oid='2addc74ad1b88b630880616f1031b79ba31e060a', pr_url=None, repo_url=RepoUrl('https://huggingface.co/keanteng/srgan-div2k-0723', endpoint='https://huggingface.co', repo_type='model', repo_id='keanteng/srgan-div2k-0723'), pr_revision=None, pr_num=None)"
            ]
          },
          "execution_count": 23,
          "metadata": {},
          "output_type": "execute_result"
        }
      ],
      "source": [
        "# Push the model to Hugging Face Hub\n",
        "api = HfApi()\n",
        "api.upload_folder(\n",
        "    folder_path=f\"saved_models\",\n",
        "    repo_id=model_name,\n",
        "    repo_type=\"model\"\n",
        ")"
      ]
    },
    {
      "cell_type": "code",
      "execution_count": null,
      "id": "0e47efcc",
      "metadata": {
        "id": "0e47efcc"
      },
      "outputs": [],
      "source": [
        "readme_content = f\"\"\"\n",
        "---\n",
        "license: agpl-3.0\n",
        "datasets:\n",
        "- eugenesiow/Div2k\n",
        "pipeline_tag: super-resolution\n",
        "library_name: pytorch\n",
        "tags:\n",
        "- generative-ai\n",
        "- deep-cnn\n",
        "- super-resolution\n",
        "---\n",
        "\n",
        "> For this version, the model has been trained for 50 epochs on the SRResNet pre-training phase and 100 epochs on the GAN training phase. Since purple tint is observed when trained for 15 epochs, this version is trained for longer to check if the issue persists.\n",
        "\n",
        "# SRGAN Model for Super-Resolution\n",
        "\n",
        "This repository contains a Super-Resolution Generative Adversarial Network (SRGAN) model trained on the DIV2K dataset. The model is designed to enhance the resolution of low-resolution images using deep convolutional neural networks.\n",
        "\n",
        "## Experiment Implementation\n",
        "\n",
        "The results as follows:\n",
        "\n",
        "- **PSNR**: {avg_sr_psnr:.2f} dB\n",
        "- **SSIM**: {avg_sr_ssim:.4f}\n",
        "\n",
        "\"\"\""
      ]
    },
    {
      "cell_type": "code",
      "execution_count": 25,
      "id": "6adb7e69",
      "metadata": {
        "colab": {
          "base_uri": "https://localhost:8080/",
          "height": 159
        },
        "id": "6adb7e69",
        "outputId": "bb6452db-6e87-4cc4-d842-285e84497003"
      },
      "outputs": [
        {
          "name": "stderr",
          "output_type": "stream",
          "text": [
            "/usr/local/lib/python3.11/dist-packages/huggingface_hub/hf_api.py:9692: UserWarning: Warnings while validating metadata in README.md:\n",
            "- The pipeline tag \"super-resolution\" is not in the official list: text-classification, token-classification, table-question-answering, question-answering, zero-shot-classification, translation, summarization, feature-extraction, text-generation, fill-mask, sentence-similarity, text-to-speech, text-to-audio, automatic-speech-recognition, audio-to-audio, audio-classification, audio-text-to-text, voice-activity-detection, depth-estimation, image-classification, object-detection, image-segmentation, text-to-image, image-to-text, image-to-image, image-to-video, unconditional-image-generation, video-classification, reinforcement-learning, robotics, tabular-classification, tabular-regression, tabular-to-text, table-to-text, multiple-choice, text-ranking, text-retrieval, time-series-forecasting, text-to-video, image-text-to-text, visual-question-answering, document-question-answering, zero-shot-image-classification, graph-ml, mask-generation, zero-shot-object-detection, text-to-3d, image-to-3d, image-feature-extraction, video-text-to-text, keypoint-detection, visual-document-retrieval, any-to-any, video-to-video, other\n",
            "  warnings.warn(f\"Warnings while validating metadata in README.md:\\n{message}\")\n"
          ]
        },
        {
          "data": {
            "application/vnd.google.colaboratory.intrinsic+json": {
              "type": "string"
            },
            "text/plain": [
              "CommitInfo(commit_url='https://huggingface.co/keanteng/srgan-div2k-0723/commit/f5d6da050f19e38ee2b12396b333ea4901929d8c', commit_message='Upload README.md with huggingface_hub', commit_description='', oid='f5d6da050f19e38ee2b12396b333ea4901929d8c', pr_url=None, repo_url=RepoUrl('https://huggingface.co/keanteng/srgan-div2k-0723', endpoint='https://huggingface.co', repo_type='model', repo_id='keanteng/srgan-div2k-0723'), pr_revision=None, pr_num=None)"
            ]
          },
          "execution_count": 25,
          "metadata": {},
          "output_type": "execute_result"
        }
      ],
      "source": [
        "# Save README\n",
        "with open(\"README.md\", \"w\") as f:\n",
        "    f.write(readme_content)\n",
        "\n",
        "# Upload README to Hugging Face Hub\n",
        "api.upload_file(\n",
        "    path_or_fileobj=f\"README.md\",\n",
        "    path_in_repo=\"README.md\",\n",
        "    repo_id=model_name,\n",
        "    repo_type=\"model\"\n",
        ")"
      ]
    },
    {
      "cell_type": "code",
      "execution_count": 26,
      "id": "9b66e91e",
      "metadata": {
        "colab": {
          "base_uri": "https://localhost:8080/",
          "height": 86
        },
        "id": "9b66e91e",
        "outputId": "f1e7fd9a-3018-41a6-8b07-76978786773b"
      },
      "outputs": [
        {
          "data": {
            "application/vnd.google.colaboratory.intrinsic+json": {
              "type": "string"
            },
            "text/plain": [
              "CommitInfo(commit_url='https://huggingface.co/keanteng/srgan-div2k-0723/commit/4b9823f74ee5b959a9b8157c379db5f68e63e33c', commit_message='Upload folder using huggingface_hub', commit_description='', oid='4b9823f74ee5b959a9b8157c379db5f68e63e33c', pr_url=None, repo_url=RepoUrl('https://huggingface.co/keanteng/srgan-div2k-0723', endpoint='https://huggingface.co', repo_type='model', repo_id='keanteng/srgan-div2k-0723'), pr_revision=None, pr_num=None)"
            ]
          },
          "execution_count": 26,
          "metadata": {},
          "output_type": "execute_result"
        }
      ],
      "source": [
        "api.upload_folder(\n",
        "    folder_path=f\"results\",\n",
        "    repo_id=f\"{model_name}\",\n",
        "    repo_type=\"model\",\n",
        "    path_in_repo=\"results\"\n",
        ")"
      ]
    }
  ],
  "metadata": {
    "accelerator": "GPU",
    "colab": {
      "gpuType": "A100",
      "provenance": []
    },
    "kernelspec": {
      "display_name": "Python 3",
      "name": "python3"
    },
    "language_info": {
      "name": "python",
      "version": "3.12.7"
    },
    "widgets": {
      "application/vnd.jupyter.widget-state+json": {
        "0492afe598024c3d849f22950f3d162e": {
          "model_module": "@jupyter-widgets/base",
          "model_module_version": "1.2.0",
          "model_name": "LayoutModel",
          "state": {
            "_model_module": "@jupyter-widgets/base",
            "_model_module_version": "1.2.0",
            "_model_name": "LayoutModel",
            "_view_count": null,
            "_view_module": "@jupyter-widgets/base",
            "_view_module_version": "1.2.0",
            "_view_name": "LayoutView",
            "align_content": null,
            "align_items": null,
            "align_self": null,
            "border": null,
            "bottom": null,
            "display": null,
            "flex": null,
            "flex_flow": null,
            "grid_area": null,
            "grid_auto_columns": null,
            "grid_auto_flow": null,
            "grid_auto_rows": null,
            "grid_column": null,
            "grid_gap": null,
            "grid_row": null,
            "grid_template_areas": null,
            "grid_template_columns": null,
            "grid_template_rows": null,
            "height": null,
            "justify_content": null,
            "justify_items": null,
            "left": null,
            "margin": null,
            "max_height": null,
            "max_width": null,
            "min_height": null,
            "min_width": null,
            "object_fit": null,
            "object_position": null,
            "order": null,
            "overflow": null,
            "overflow_x": null,
            "overflow_y": null,
            "padding": null,
            "right": null,
            "top": null,
            "visibility": null,
            "width": null
          }
        },
        "0a16e5dc4d844c83af7dfe6a07f5fd38": {
          "model_module": "@jupyter-widgets/controls",
          "model_module_version": "1.5.0",
          "model_name": "DescriptionStyleModel",
          "state": {
            "_model_module": "@jupyter-widgets/controls",
            "_model_module_version": "1.5.0",
            "_model_name": "DescriptionStyleModel",
            "_view_count": null,
            "_view_module": "@jupyter-widgets/base",
            "_view_module_version": "1.2.0",
            "_view_name": "StyleView",
            "description_width": ""
          }
        },
        "0aa863b142cc41db86da5b1d8e227b01": {
          "model_module": "@jupyter-widgets/controls",
          "model_module_version": "1.5.0",
          "model_name": "CheckboxModel",
          "state": {
            "_dom_classes": [],
            "_model_module": "@jupyter-widgets/controls",
            "_model_module_version": "1.5.0",
            "_model_name": "CheckboxModel",
            "_view_count": null,
            "_view_module": "@jupyter-widgets/controls",
            "_view_module_version": "1.5.0",
            "_view_name": "CheckboxView",
            "description": "Add token as git credential?",
            "description_tooltip": null,
            "disabled": false,
            "indent": true,
            "layout": "IPY_MODEL_0492afe598024c3d849f22950f3d162e",
            "style": "IPY_MODEL_ab9ffc5d78fe47c288512d997de6cfbd",
            "value": true
          }
        },
        "10a3cc14e33d4277853af7c86a4c27e4": {
          "model_module": "@jupyter-widgets/controls",
          "model_module_version": "1.5.0",
          "model_name": "VBoxModel",
          "state": {
            "_dom_classes": [],
            "_model_module": "@jupyter-widgets/controls",
            "_model_module_version": "1.5.0",
            "_model_name": "VBoxModel",
            "_view_count": null,
            "_view_module": "@jupyter-widgets/controls",
            "_view_module_version": "1.5.0",
            "_view_name": "VBoxView",
            "box_style": "",
            "children": [],
            "layout": "IPY_MODEL_1d0f5388f5714f2eb52407a3f53b1737"
          }
        },
        "154c52227b6942c18aec6d5cdbf0baa8": {
          "model_module": "@jupyter-widgets/controls",
          "model_module_version": "1.5.0",
          "model_name": "PasswordModel",
          "state": {
            "_dom_classes": [],
            "_model_module": "@jupyter-widgets/controls",
            "_model_module_version": "1.5.0",
            "_model_name": "PasswordModel",
            "_view_count": null,
            "_view_module": "@jupyter-widgets/controls",
            "_view_module_version": "1.5.0",
            "_view_name": "PasswordView",
            "continuous_update": true,
            "description": "Token:",
            "description_tooltip": null,
            "disabled": false,
            "layout": "IPY_MODEL_8983c0ec7d06441193936645e1083d14",
            "placeholder": "​",
            "style": "IPY_MODEL_0a16e5dc4d844c83af7dfe6a07f5fd38",
            "value": ""
          }
        },
        "17f5606ede7a4ac39730bc64d2e43449": {
          "model_module": "@jupyter-widgets/base",
          "model_module_version": "1.2.0",
          "model_name": "LayoutModel",
          "state": {
            "_model_module": "@jupyter-widgets/base",
            "_model_module_version": "1.2.0",
            "_model_name": "LayoutModel",
            "_view_count": null,
            "_view_module": "@jupyter-widgets/base",
            "_view_module_version": "1.2.0",
            "_view_name": "LayoutView",
            "align_content": null,
            "align_items": null,
            "align_self": null,
            "border": null,
            "bottom": null,
            "display": null,
            "flex": null,
            "flex_flow": null,
            "grid_area": null,
            "grid_auto_columns": null,
            "grid_auto_flow": null,
            "grid_auto_rows": null,
            "grid_column": null,
            "grid_gap": null,
            "grid_row": null,
            "grid_template_areas": null,
            "grid_template_columns": null,
            "grid_template_rows": null,
            "height": null,
            "justify_content": null,
            "justify_items": null,
            "left": null,
            "margin": null,
            "max_height": null,
            "max_width": null,
            "min_height": null,
            "min_width": null,
            "object_fit": null,
            "object_position": null,
            "order": null,
            "overflow": null,
            "overflow_x": null,
            "overflow_y": null,
            "padding": null,
            "right": null,
            "top": null,
            "visibility": null,
            "width": null
          }
        },
        "1d0f5388f5714f2eb52407a3f53b1737": {
          "model_module": "@jupyter-widgets/base",
          "model_module_version": "1.2.0",
          "model_name": "LayoutModel",
          "state": {
            "_model_module": "@jupyter-widgets/base",
            "_model_module_version": "1.2.0",
            "_model_name": "LayoutModel",
            "_view_count": null,
            "_view_module": "@jupyter-widgets/base",
            "_view_module_version": "1.2.0",
            "_view_name": "LayoutView",
            "align_content": null,
            "align_items": "center",
            "align_self": null,
            "border": null,
            "bottom": null,
            "display": "flex",
            "flex": null,
            "flex_flow": "column",
            "grid_area": null,
            "grid_auto_columns": null,
            "grid_auto_flow": null,
            "grid_auto_rows": null,
            "grid_column": null,
            "grid_gap": null,
            "grid_row": null,
            "grid_template_areas": null,
            "grid_template_columns": null,
            "grid_template_rows": null,
            "height": null,
            "justify_content": null,
            "justify_items": null,
            "left": null,
            "margin": null,
            "max_height": null,
            "max_width": null,
            "min_height": null,
            "min_width": null,
            "object_fit": null,
            "object_position": null,
            "order": null,
            "overflow": null,
            "overflow_x": null,
            "overflow_y": null,
            "padding": null,
            "right": null,
            "top": null,
            "visibility": null,
            "width": "50%"
          }
        },
        "31fe3694dc0c4a75bd46dd54ccb4247e": {
          "model_module": "@jupyter-widgets/controls",
          "model_module_version": "1.5.0",
          "model_name": "ButtonStyleModel",
          "state": {
            "_model_module": "@jupyter-widgets/controls",
            "_model_module_version": "1.5.0",
            "_model_name": "ButtonStyleModel",
            "_view_count": null,
            "_view_module": "@jupyter-widgets/base",
            "_view_module_version": "1.2.0",
            "_view_name": "StyleView",
            "button_color": null,
            "font_weight": ""
          }
        },
        "3231d0a0972e459987e6ad344361dadb": {
          "model_module": "@jupyter-widgets/base",
          "model_module_version": "1.2.0",
          "model_name": "LayoutModel",
          "state": {
            "_model_module": "@jupyter-widgets/base",
            "_model_module_version": "1.2.0",
            "_model_name": "LayoutModel",
            "_view_count": null,
            "_view_module": "@jupyter-widgets/base",
            "_view_module_version": "1.2.0",
            "_view_name": "LayoutView",
            "align_content": null,
            "align_items": null,
            "align_self": null,
            "border": null,
            "bottom": null,
            "display": null,
            "flex": null,
            "flex_flow": null,
            "grid_area": null,
            "grid_auto_columns": null,
            "grid_auto_flow": null,
            "grid_auto_rows": null,
            "grid_column": null,
            "grid_gap": null,
            "grid_row": null,
            "grid_template_areas": null,
            "grid_template_columns": null,
            "grid_template_rows": null,
            "height": null,
            "justify_content": null,
            "justify_items": null,
            "left": null,
            "margin": null,
            "max_height": null,
            "max_width": null,
            "min_height": null,
            "min_width": null,
            "object_fit": null,
            "object_position": null,
            "order": null,
            "overflow": null,
            "overflow_x": null,
            "overflow_y": null,
            "padding": null,
            "right": null,
            "top": null,
            "visibility": null,
            "width": null
          }
        },
        "4033689b00ae4b4495bdb5f925adbab8": {
          "model_module": "@jupyter-widgets/controls",
          "model_module_version": "1.5.0",
          "model_name": "DescriptionStyleModel",
          "state": {
            "_model_module": "@jupyter-widgets/controls",
            "_model_module_version": "1.5.0",
            "_model_name": "DescriptionStyleModel",
            "_view_count": null,
            "_view_module": "@jupyter-widgets/base",
            "_view_module_version": "1.2.0",
            "_view_name": "StyleView",
            "description_width": ""
          }
        },
        "4209c98f49e3499b9d4176ef1aaa2921": {
          "model_module": "@jupyter-widgets/controls",
          "model_module_version": "1.5.0",
          "model_name": "DescriptionStyleModel",
          "state": {
            "_model_module": "@jupyter-widgets/controls",
            "_model_module_version": "1.5.0",
            "_model_name": "DescriptionStyleModel",
            "_view_count": null,
            "_view_module": "@jupyter-widgets/base",
            "_view_module_version": "1.2.0",
            "_view_name": "StyleView",
            "description_width": ""
          }
        },
        "4f1a102599154c2bbddcf3822bac2667": {
          "model_module": "@jupyter-widgets/controls",
          "model_module_version": "1.5.0",
          "model_name": "ProgressStyleModel",
          "state": {
            "_model_module": "@jupyter-widgets/controls",
            "_model_module_version": "1.5.0",
            "_model_name": "ProgressStyleModel",
            "_view_count": null,
            "_view_module": "@jupyter-widgets/base",
            "_view_module_version": "1.2.0",
            "_view_name": "StyleView",
            "bar_color": null,
            "description_width": ""
          }
        },
        "4fc7219c8e1549c8835e7c764759923c": {
          "model_module": "@jupyter-widgets/base",
          "model_module_version": "1.2.0",
          "model_name": "LayoutModel",
          "state": {
            "_model_module": "@jupyter-widgets/base",
            "_model_module_version": "1.2.0",
            "_model_name": "LayoutModel",
            "_view_count": null,
            "_view_module": "@jupyter-widgets/base",
            "_view_module_version": "1.2.0",
            "_view_name": "LayoutView",
            "align_content": null,
            "align_items": null,
            "align_self": null,
            "border": null,
            "bottom": null,
            "display": null,
            "flex": null,
            "flex_flow": null,
            "grid_area": null,
            "grid_auto_columns": null,
            "grid_auto_flow": null,
            "grid_auto_rows": null,
            "grid_column": null,
            "grid_gap": null,
            "grid_row": null,
            "grid_template_areas": null,
            "grid_template_columns": null,
            "grid_template_rows": null,
            "height": null,
            "justify_content": null,
            "justify_items": null,
            "left": null,
            "margin": null,
            "max_height": null,
            "max_width": null,
            "min_height": null,
            "min_width": null,
            "object_fit": null,
            "object_position": null,
            "order": null,
            "overflow": null,
            "overflow_x": null,
            "overflow_y": null,
            "padding": null,
            "right": null,
            "top": null,
            "visibility": null,
            "width": null
          }
        },
        "506c35f5d1254164a37bbd56bd9da30a": {
          "model_module": "@jupyter-widgets/controls",
          "model_module_version": "1.5.0",
          "model_name": "HTMLModel",
          "state": {
            "_dom_classes": [],
            "_model_module": "@jupyter-widgets/controls",
            "_model_module_version": "1.5.0",
            "_model_name": "HTMLModel",
            "_view_count": null,
            "_view_module": "@jupyter-widgets/controls",
            "_view_module_version": "1.5.0",
            "_view_name": "HTMLView",
            "description": "",
            "description_tooltip": null,
            "layout": "IPY_MODEL_a8b215f6ccb045a4be8975a695b0d350",
            "placeholder": "​",
            "style": "IPY_MODEL_4033689b00ae4b4495bdb5f925adbab8",
            "value": "Uploading...: 100%"
          }
        },
        "66d526bb2fdc4cd786380f3bc9218c5c": {
          "model_module": "@jupyter-widgets/controls",
          "model_module_version": "1.5.0",
          "model_name": "DescriptionStyleModel",
          "state": {
            "_model_module": "@jupyter-widgets/controls",
            "_model_module_version": "1.5.0",
            "_model_name": "DescriptionStyleModel",
            "_view_count": null,
            "_view_module": "@jupyter-widgets/base",
            "_view_module_version": "1.2.0",
            "_view_name": "StyleView",
            "description_width": ""
          }
        },
        "7295ea5d6c374ebf94ec91a35b27c818": {
          "model_module": "@jupyter-widgets/controls",
          "model_module_version": "1.5.0",
          "model_name": "HTMLModel",
          "state": {
            "_dom_classes": [],
            "_model_module": "@jupyter-widgets/controls",
            "_model_module_version": "1.5.0",
            "_model_name": "HTMLModel",
            "_view_count": null,
            "_view_module": "@jupyter-widgets/controls",
            "_view_module_version": "1.5.0",
            "_view_name": "HTMLView",
            "description": "",
            "description_tooltip": null,
            "layout": "IPY_MODEL_7e586db4400c44a78186532263483d94",
            "placeholder": "​",
            "style": "IPY_MODEL_4209c98f49e3499b9d4176ef1aaa2921",
            "value": "\n<b>Pro Tip:</b> If you don't already have one, you can create a dedicated\n'notebooks' token with 'write' access, that you can then easily reuse for all\nnotebooks. </center>"
          }
        },
        "7e586db4400c44a78186532263483d94": {
          "model_module": "@jupyter-widgets/base",
          "model_module_version": "1.2.0",
          "model_name": "LayoutModel",
          "state": {
            "_model_module": "@jupyter-widgets/base",
            "_model_module_version": "1.2.0",
            "_model_name": "LayoutModel",
            "_view_count": null,
            "_view_module": "@jupyter-widgets/base",
            "_view_module_version": "1.2.0",
            "_view_name": "LayoutView",
            "align_content": null,
            "align_items": null,
            "align_self": null,
            "border": null,
            "bottom": null,
            "display": null,
            "flex": null,
            "flex_flow": null,
            "grid_area": null,
            "grid_auto_columns": null,
            "grid_auto_flow": null,
            "grid_auto_rows": null,
            "grid_column": null,
            "grid_gap": null,
            "grid_row": null,
            "grid_template_areas": null,
            "grid_template_columns": null,
            "grid_template_rows": null,
            "height": null,
            "justify_content": null,
            "justify_items": null,
            "left": null,
            "margin": null,
            "max_height": null,
            "max_width": null,
            "min_height": null,
            "min_width": null,
            "object_fit": null,
            "object_position": null,
            "order": null,
            "overflow": null,
            "overflow_x": null,
            "overflow_y": null,
            "padding": null,
            "right": null,
            "top": null,
            "visibility": null,
            "width": null
          }
        },
        "8983c0ec7d06441193936645e1083d14": {
          "model_module": "@jupyter-widgets/base",
          "model_module_version": "1.2.0",
          "model_name": "LayoutModel",
          "state": {
            "_model_module": "@jupyter-widgets/base",
            "_model_module_version": "1.2.0",
            "_model_name": "LayoutModel",
            "_view_count": null,
            "_view_module": "@jupyter-widgets/base",
            "_view_module_version": "1.2.0",
            "_view_name": "LayoutView",
            "align_content": null,
            "align_items": null,
            "align_self": null,
            "border": null,
            "bottom": null,
            "display": null,
            "flex": null,
            "flex_flow": null,
            "grid_area": null,
            "grid_auto_columns": null,
            "grid_auto_flow": null,
            "grid_auto_rows": null,
            "grid_column": null,
            "grid_gap": null,
            "grid_row": null,
            "grid_template_areas": null,
            "grid_template_columns": null,
            "grid_template_rows": null,
            "height": null,
            "justify_content": null,
            "justify_items": null,
            "left": null,
            "margin": null,
            "max_height": null,
            "max_width": null,
            "min_height": null,
            "min_width": null,
            "object_fit": null,
            "object_position": null,
            "order": null,
            "overflow": null,
            "overflow_x": null,
            "overflow_y": null,
            "padding": null,
            "right": null,
            "top": null,
            "visibility": null,
            "width": null
          }
        },
        "8c3f0174799c494984dccfea8f4b9354": {
          "model_module": "@jupyter-widgets/controls",
          "model_module_version": "1.5.0",
          "model_name": "HBoxModel",
          "state": {
            "_dom_classes": [],
            "_model_module": "@jupyter-widgets/controls",
            "_model_module_version": "1.5.0",
            "_model_name": "HBoxModel",
            "_view_count": null,
            "_view_module": "@jupyter-widgets/controls",
            "_view_module_version": "1.5.0",
            "_view_name": "HBoxView",
            "box_style": "",
            "children": [
              "IPY_MODEL_506c35f5d1254164a37bbd56bd9da30a",
              "IPY_MODEL_aab51d55d8b24f2c9e26a07ffdeed261",
              "IPY_MODEL_baeee60595594e10a5a9679eb839ee9e"
            ],
            "layout": "IPY_MODEL_4fc7219c8e1549c8835e7c764759923c"
          }
        },
        "9c6b56f4d59345ed9d652746ce750042": {
          "model_module": "@jupyter-widgets/controls",
          "model_module_version": "1.5.0",
          "model_name": "ButtonModel",
          "state": {
            "_dom_classes": [],
            "_model_module": "@jupyter-widgets/controls",
            "_model_module_version": "1.5.0",
            "_model_name": "ButtonModel",
            "_view_count": null,
            "_view_module": "@jupyter-widgets/controls",
            "_view_module_version": "1.5.0",
            "_view_name": "ButtonView",
            "button_style": "",
            "description": "Login",
            "disabled": false,
            "icon": "",
            "layout": "IPY_MODEL_d3d2dcea7af54bcb8cb1c1427b474181",
            "style": "IPY_MODEL_31fe3694dc0c4a75bd46dd54ccb4247e",
            "tooltip": ""
          }
        },
        "9ed25fb5850e4a41b93204139edae322": {
          "model_module": "@jupyter-widgets/controls",
          "model_module_version": "1.5.0",
          "model_name": "DescriptionStyleModel",
          "state": {
            "_model_module": "@jupyter-widgets/controls",
            "_model_module_version": "1.5.0",
            "_model_name": "DescriptionStyleModel",
            "_view_count": null,
            "_view_module": "@jupyter-widgets/base",
            "_view_module_version": "1.2.0",
            "_view_name": "StyleView",
            "description_width": ""
          }
        },
        "a03b53d499534307b50daced743d3122": {
          "model_module": "@jupyter-widgets/controls",
          "model_module_version": "1.5.0",
          "model_name": "LabelModel",
          "state": {
            "_dom_classes": [],
            "_model_module": "@jupyter-widgets/controls",
            "_model_module_version": "1.5.0",
            "_model_name": "LabelModel",
            "_view_count": null,
            "_view_module": "@jupyter-widgets/controls",
            "_view_module_version": "1.5.0",
            "_view_name": "LabelView",
            "description": "",
            "description_tooltip": null,
            "layout": "IPY_MODEL_bb0b312413904e0c807b8bea20dbb46a",
            "placeholder": "​",
            "style": "IPY_MODEL_b3f424fb1ec2405ebb291769d311609b",
            "value": "Connecting..."
          }
        },
        "a8b215f6ccb045a4be8975a695b0d350": {
          "model_module": "@jupyter-widgets/base",
          "model_module_version": "1.2.0",
          "model_name": "LayoutModel",
          "state": {
            "_model_module": "@jupyter-widgets/base",
            "_model_module_version": "1.2.0",
            "_model_name": "LayoutModel",
            "_view_count": null,
            "_view_module": "@jupyter-widgets/base",
            "_view_module_version": "1.2.0",
            "_view_name": "LayoutView",
            "align_content": null,
            "align_items": null,
            "align_self": null,
            "border": null,
            "bottom": null,
            "display": null,
            "flex": null,
            "flex_flow": null,
            "grid_area": null,
            "grid_auto_columns": null,
            "grid_auto_flow": null,
            "grid_auto_rows": null,
            "grid_column": null,
            "grid_gap": null,
            "grid_row": null,
            "grid_template_areas": null,
            "grid_template_columns": null,
            "grid_template_rows": null,
            "height": null,
            "justify_content": null,
            "justify_items": null,
            "left": null,
            "margin": null,
            "max_height": null,
            "max_width": null,
            "min_height": null,
            "min_width": null,
            "object_fit": null,
            "object_position": null,
            "order": null,
            "overflow": null,
            "overflow_x": null,
            "overflow_y": null,
            "padding": null,
            "right": null,
            "top": null,
            "visibility": null,
            "width": null
          }
        },
        "a9da7358a0824d558046fe947f0d7604": {
          "model_module": "@jupyter-widgets/base",
          "model_module_version": "1.2.0",
          "model_name": "LayoutModel",
          "state": {
            "_model_module": "@jupyter-widgets/base",
            "_model_module_version": "1.2.0",
            "_model_name": "LayoutModel",
            "_view_count": null,
            "_view_module": "@jupyter-widgets/base",
            "_view_module_version": "1.2.0",
            "_view_name": "LayoutView",
            "align_content": null,
            "align_items": null,
            "align_self": null,
            "border": null,
            "bottom": null,
            "display": null,
            "flex": null,
            "flex_flow": null,
            "grid_area": null,
            "grid_auto_columns": null,
            "grid_auto_flow": null,
            "grid_auto_rows": null,
            "grid_column": null,
            "grid_gap": null,
            "grid_row": null,
            "grid_template_areas": null,
            "grid_template_columns": null,
            "grid_template_rows": null,
            "height": null,
            "justify_content": null,
            "justify_items": null,
            "left": null,
            "margin": null,
            "max_height": null,
            "max_width": null,
            "min_height": null,
            "min_width": null,
            "object_fit": null,
            "object_position": null,
            "order": null,
            "overflow": null,
            "overflow_x": null,
            "overflow_y": null,
            "padding": null,
            "right": null,
            "top": null,
            "visibility": null,
            "width": null
          }
        },
        "aab51d55d8b24f2c9e26a07ffdeed261": {
          "model_module": "@jupyter-widgets/controls",
          "model_module_version": "1.5.0",
          "model_name": "FloatProgressModel",
          "state": {
            "_dom_classes": [],
            "_model_module": "@jupyter-widgets/controls",
            "_model_module_version": "1.5.0",
            "_model_name": "FloatProgressModel",
            "_view_count": null,
            "_view_module": "@jupyter-widgets/controls",
            "_view_module_version": "1.5.0",
            "_view_name": "ProgressView",
            "bar_style": "success",
            "description": "",
            "description_tooltip": null,
            "layout": "IPY_MODEL_17f5606ede7a4ac39730bc64d2e43449",
            "max": 33507203,
            "min": 0,
            "orientation": "horizontal",
            "style": "IPY_MODEL_4f1a102599154c2bbddcf3822bac2667",
            "value": 33507203
          }
        },
        "ab9ffc5d78fe47c288512d997de6cfbd": {
          "model_module": "@jupyter-widgets/controls",
          "model_module_version": "1.5.0",
          "model_name": "DescriptionStyleModel",
          "state": {
            "_model_module": "@jupyter-widgets/controls",
            "_model_module_version": "1.5.0",
            "_model_name": "DescriptionStyleModel",
            "_view_count": null,
            "_view_module": "@jupyter-widgets/base",
            "_view_module_version": "1.2.0",
            "_view_name": "StyleView",
            "description_width": ""
          }
        },
        "b31e3386b0514dcbb0e6ca7280db4ad9": {
          "model_module": "@jupyter-widgets/controls",
          "model_module_version": "1.5.0",
          "model_name": "HTMLModel",
          "state": {
            "_dom_classes": [],
            "_model_module": "@jupyter-widgets/controls",
            "_model_module_version": "1.5.0",
            "_model_name": "HTMLModel",
            "_view_count": null,
            "_view_module": "@jupyter-widgets/controls",
            "_view_module_version": "1.5.0",
            "_view_name": "HTMLView",
            "description": "",
            "description_tooltip": null,
            "layout": "IPY_MODEL_a9da7358a0824d558046fe947f0d7604",
            "placeholder": "​",
            "style": "IPY_MODEL_9ed25fb5850e4a41b93204139edae322",
            "value": "<center> <img\nsrc=https://huggingface.co/front/assets/huggingface_logo-noborder.svg\nalt='Hugging Face'> <br> Copy a token from <a\nhref=\"https://huggingface.co/settings/tokens\" target=\"_blank\">your Hugging Face\ntokens page</a> and paste it below. <br> Immediately click login after copying\nyour token or it might be stored in plain text in this notebook file. </center>"
          }
        },
        "b3f424fb1ec2405ebb291769d311609b": {
          "model_module": "@jupyter-widgets/controls",
          "model_module_version": "1.5.0",
          "model_name": "DescriptionStyleModel",
          "state": {
            "_model_module": "@jupyter-widgets/controls",
            "_model_module_version": "1.5.0",
            "_model_name": "DescriptionStyleModel",
            "_view_count": null,
            "_view_module": "@jupyter-widgets/base",
            "_view_module_version": "1.2.0",
            "_view_name": "StyleView",
            "description_width": ""
          }
        },
        "baeee60595594e10a5a9679eb839ee9e": {
          "model_module": "@jupyter-widgets/controls",
          "model_module_version": "1.5.0",
          "model_name": "HTMLModel",
          "state": {
            "_dom_classes": [],
            "_model_module": "@jupyter-widgets/controls",
            "_model_module_version": "1.5.0",
            "_model_name": "HTMLModel",
            "_view_count": null,
            "_view_module": "@jupyter-widgets/controls",
            "_view_module_version": "1.5.0",
            "_view_name": "HTMLView",
            "description": "",
            "description_tooltip": null,
            "layout": "IPY_MODEL_3231d0a0972e459987e6ad344361dadb",
            "placeholder": "​",
            "style": "IPY_MODEL_66d526bb2fdc4cd786380f3bc9218c5c",
            "value": " 33.5M/33.5M [00:01&lt;00:00, 58.4MB/s]"
          }
        },
        "bb0b312413904e0c807b8bea20dbb46a": {
          "model_module": "@jupyter-widgets/base",
          "model_module_version": "1.2.0",
          "model_name": "LayoutModel",
          "state": {
            "_model_module": "@jupyter-widgets/base",
            "_model_module_version": "1.2.0",
            "_model_name": "LayoutModel",
            "_view_count": null,
            "_view_module": "@jupyter-widgets/base",
            "_view_module_version": "1.2.0",
            "_view_name": "LayoutView",
            "align_content": null,
            "align_items": null,
            "align_self": null,
            "border": null,
            "bottom": null,
            "display": null,
            "flex": null,
            "flex_flow": null,
            "grid_area": null,
            "grid_auto_columns": null,
            "grid_auto_flow": null,
            "grid_auto_rows": null,
            "grid_column": null,
            "grid_gap": null,
            "grid_row": null,
            "grid_template_areas": null,
            "grid_template_columns": null,
            "grid_template_rows": null,
            "height": null,
            "justify_content": null,
            "justify_items": null,
            "left": null,
            "margin": null,
            "max_height": null,
            "max_width": null,
            "min_height": null,
            "min_width": null,
            "object_fit": null,
            "object_position": null,
            "order": null,
            "overflow": null,
            "overflow_x": null,
            "overflow_y": null,
            "padding": null,
            "right": null,
            "top": null,
            "visibility": null,
            "width": null
          }
        },
        "d3d2dcea7af54bcb8cb1c1427b474181": {
          "model_module": "@jupyter-widgets/base",
          "model_module_version": "1.2.0",
          "model_name": "LayoutModel",
          "state": {
            "_model_module": "@jupyter-widgets/base",
            "_model_module_version": "1.2.0",
            "_model_name": "LayoutModel",
            "_view_count": null,
            "_view_module": "@jupyter-widgets/base",
            "_view_module_version": "1.2.0",
            "_view_name": "LayoutView",
            "align_content": null,
            "align_items": null,
            "align_self": null,
            "border": null,
            "bottom": null,
            "display": null,
            "flex": null,
            "flex_flow": null,
            "grid_area": null,
            "grid_auto_columns": null,
            "grid_auto_flow": null,
            "grid_auto_rows": null,
            "grid_column": null,
            "grid_gap": null,
            "grid_row": null,
            "grid_template_areas": null,
            "grid_template_columns": null,
            "grid_template_rows": null,
            "height": null,
            "justify_content": null,
            "justify_items": null,
            "left": null,
            "margin": null,
            "max_height": null,
            "max_width": null,
            "min_height": null,
            "min_width": null,
            "object_fit": null,
            "object_position": null,
            "order": null,
            "overflow": null,
            "overflow_x": null,
            "overflow_y": null,
            "padding": null,
            "right": null,
            "top": null,
            "visibility": null,
            "width": null
          }
        }
      }
    }
  },
  "nbformat": 4,
  "nbformat_minor": 5
}
